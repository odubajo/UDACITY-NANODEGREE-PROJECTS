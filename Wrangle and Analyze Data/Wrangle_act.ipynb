{
 "cells": [
  {
   "cell_type": "markdown",
   "id": "ac865331",
   "metadata": {},
   "source": [
    ">\n",
    "# Project: wrangle and analyze data\n",
    "\n",
    "## Table of Contents\n",
    "<ul>\n",
    "<li><a href=\"#intro\">Introduction</a></li>\n",
    "<li><a href=\"#sources\">Data sources</a></li>    \n",
    "<li><a href=\"#gathering\">Data gathering</a></li>    \n",
    "<li><a href=\"#assessing\">Data assessing</a></li>\n",
    "<li><a href=\"#cleaning\">Data cleaning</a></li>   \n",
    "<li><a href=\"#eda\">Exploratory Data Analysis</a></li>\n",
    "<li><a href=\"#conclusions\">Conclusions</a></li>\n",
    "</ul>"
   ]
  },
  {
   "cell_type": "markdown",
   "id": "fcad5f99",
   "metadata": {},
   "source": [
    "\n",
    "## Introduction\n",
    "\n",
    "> In this project i'll be gathering, cleaning and analyzing data obtained from the Twitter account \"WeRateDogs\". the data was gathered using multiple methods such as: manual download, programmatical download and over an API. After gathering, assessment of the data will be done, I'll then define the issues noticed during the assessment and clean these issues to get a cleaned master dataframe.\n"
   ]
  },
  {
   "cell_type": "markdown",
   "id": "5af9db7d",
   "metadata": {},
   "source": [
    "\n",
    "## DATA SOURCES\n",
    "\n",
    "<ul>\n",
    "1. Directly download the WeRateDogs Twitter archive data (twitter_archive_enhanced.csv)\n",
    "<li><a href=\"#source\">Source: Udacity</a></li>\n",
    "<li><a href=\"#gathering\">mode of gathering: Manual download</a></li> \n",
    "</ul>\n",
    "\n",
    "<ul>\n",
    "2. Use the Requests library to download the tweet image prediction (image_predictions.tsv)\n",
    "<li><a href=\"#source\">Source: Udacity</a></li>\n",
    "<li><a href=\"#gathering\">mode of gathering: Programmatical download using Requests</a></li> \n",
    "</ul>\n",
    "\n",
    "<ul>\n",
    "3. Use the Tweepy library to query additional data via the Twitter API (tweet_json.txt)\n",
    "<li><a href=\"#source\">Source: WeRateDogs</a></li>\n",
    "<li><a href=\"#gathering\">mode of gathering:API via Tweepy</a></li> \n",
    "</ul>"
   ]
  },
  {
   "cell_type": "markdown",
   "id": "e95cd5ae",
   "metadata": {},
   "source": [
    "## Importing the neccessary libraries"
   ]
  },
  {
   "cell_type": "code",
   "execution_count": 1,
   "id": "22558618",
   "metadata": {},
   "outputs": [],
   "source": [
    "import requests\n",
    "import os\n",
    "import tweepy\n",
    "import numpy as np\n",
    "import pandas as pd\n",
    "import json\n",
    "import matplotlib.pyplot as plt\n",
    "import seaborn as sns"
   ]
  },
  {
   "cell_type": "markdown",
   "id": "6011b040",
   "metadata": {},
   "source": [
    "## GATHER\n",
    "\n",
    "### 1. Name: WeRateDogs(twitter-archive-enhanced.csv)"
   ]
  },
  {
   "cell_type": "markdown",
   "id": "d34faeff",
   "metadata": {},
   "source": [
    "This file was made available for download by udacity. It is now being loaded into a dataframe"
   ]
  },
  {
   "cell_type": "code",
   "execution_count": 2,
   "id": "40148ebc",
   "metadata": {},
   "outputs": [
    {
     "data": {
      "text/html": [
       "<div>\n",
       "<style scoped>\n",
       "    .dataframe tbody tr th:only-of-type {\n",
       "        vertical-align: middle;\n",
       "    }\n",
       "\n",
       "    .dataframe tbody tr th {\n",
       "        vertical-align: top;\n",
       "    }\n",
       "\n",
       "    .dataframe thead th {\n",
       "        text-align: right;\n",
       "    }\n",
       "</style>\n",
       "<table border=\"1\" class=\"dataframe\">\n",
       "  <thead>\n",
       "    <tr style=\"text-align: right;\">\n",
       "      <th></th>\n",
       "      <th>tweet_id</th>\n",
       "      <th>in_reply_to_status_id</th>\n",
       "      <th>in_reply_to_user_id</th>\n",
       "      <th>timestamp</th>\n",
       "      <th>source</th>\n",
       "      <th>text</th>\n",
       "      <th>retweeted_status_id</th>\n",
       "      <th>retweeted_status_user_id</th>\n",
       "      <th>retweeted_status_timestamp</th>\n",
       "      <th>expanded_urls</th>\n",
       "      <th>rating_numerator</th>\n",
       "      <th>rating_denominator</th>\n",
       "      <th>name</th>\n",
       "      <th>doggo</th>\n",
       "      <th>floofer</th>\n",
       "      <th>pupper</th>\n",
       "      <th>puppo</th>\n",
       "    </tr>\n",
       "  </thead>\n",
       "  <tbody>\n",
       "    <tr>\n",
       "      <th>0</th>\n",
       "      <td>892420643555336193</td>\n",
       "      <td>NaN</td>\n",
       "      <td>NaN</td>\n",
       "      <td>2017-08-01 16:23:56 +0000</td>\n",
       "      <td>&lt;a href=\"http://twitter.com/download/iphone\" r...</td>\n",
       "      <td>This is Phineas. He's a mystical boy. Only eve...</td>\n",
       "      <td>NaN</td>\n",
       "      <td>NaN</td>\n",
       "      <td>NaN</td>\n",
       "      <td>https://twitter.com/dog_rates/status/892420643...</td>\n",
       "      <td>13</td>\n",
       "      <td>10</td>\n",
       "      <td>Phineas</td>\n",
       "      <td>None</td>\n",
       "      <td>None</td>\n",
       "      <td>None</td>\n",
       "      <td>None</td>\n",
       "    </tr>\n",
       "    <tr>\n",
       "      <th>1</th>\n",
       "      <td>892177421306343426</td>\n",
       "      <td>NaN</td>\n",
       "      <td>NaN</td>\n",
       "      <td>2017-08-01 00:17:27 +0000</td>\n",
       "      <td>&lt;a href=\"http://twitter.com/download/iphone\" r...</td>\n",
       "      <td>This is Tilly. She's just checking pup on you....</td>\n",
       "      <td>NaN</td>\n",
       "      <td>NaN</td>\n",
       "      <td>NaN</td>\n",
       "      <td>https://twitter.com/dog_rates/status/892177421...</td>\n",
       "      <td>13</td>\n",
       "      <td>10</td>\n",
       "      <td>Tilly</td>\n",
       "      <td>None</td>\n",
       "      <td>None</td>\n",
       "      <td>None</td>\n",
       "      <td>None</td>\n",
       "    </tr>\n",
       "    <tr>\n",
       "      <th>2</th>\n",
       "      <td>891815181378084864</td>\n",
       "      <td>NaN</td>\n",
       "      <td>NaN</td>\n",
       "      <td>2017-07-31 00:18:03 +0000</td>\n",
       "      <td>&lt;a href=\"http://twitter.com/download/iphone\" r...</td>\n",
       "      <td>This is Archie. He is a rare Norwegian Pouncin...</td>\n",
       "      <td>NaN</td>\n",
       "      <td>NaN</td>\n",
       "      <td>NaN</td>\n",
       "      <td>https://twitter.com/dog_rates/status/891815181...</td>\n",
       "      <td>12</td>\n",
       "      <td>10</td>\n",
       "      <td>Archie</td>\n",
       "      <td>None</td>\n",
       "      <td>None</td>\n",
       "      <td>None</td>\n",
       "      <td>None</td>\n",
       "    </tr>\n",
       "    <tr>\n",
       "      <th>3</th>\n",
       "      <td>891689557279858688</td>\n",
       "      <td>NaN</td>\n",
       "      <td>NaN</td>\n",
       "      <td>2017-07-30 15:58:51 +0000</td>\n",
       "      <td>&lt;a href=\"http://twitter.com/download/iphone\" r...</td>\n",
       "      <td>This is Darla. She commenced a snooze mid meal...</td>\n",
       "      <td>NaN</td>\n",
       "      <td>NaN</td>\n",
       "      <td>NaN</td>\n",
       "      <td>https://twitter.com/dog_rates/status/891689557...</td>\n",
       "      <td>13</td>\n",
       "      <td>10</td>\n",
       "      <td>Darla</td>\n",
       "      <td>None</td>\n",
       "      <td>None</td>\n",
       "      <td>None</td>\n",
       "      <td>None</td>\n",
       "    </tr>\n",
       "    <tr>\n",
       "      <th>4</th>\n",
       "      <td>891327558926688256</td>\n",
       "      <td>NaN</td>\n",
       "      <td>NaN</td>\n",
       "      <td>2017-07-29 16:00:24 +0000</td>\n",
       "      <td>&lt;a href=\"http://twitter.com/download/iphone\" r...</td>\n",
       "      <td>This is Franklin. He would like you to stop ca...</td>\n",
       "      <td>NaN</td>\n",
       "      <td>NaN</td>\n",
       "      <td>NaN</td>\n",
       "      <td>https://twitter.com/dog_rates/status/891327558...</td>\n",
       "      <td>12</td>\n",
       "      <td>10</td>\n",
       "      <td>Franklin</td>\n",
       "      <td>None</td>\n",
       "      <td>None</td>\n",
       "      <td>None</td>\n",
       "      <td>None</td>\n",
       "    </tr>\n",
       "  </tbody>\n",
       "</table>\n",
       "</div>"
      ],
      "text/plain": [
       "             tweet_id  in_reply_to_status_id  in_reply_to_user_id  \\\n",
       "0  892420643555336193                    NaN                  NaN   \n",
       "1  892177421306343426                    NaN                  NaN   \n",
       "2  891815181378084864                    NaN                  NaN   \n",
       "3  891689557279858688                    NaN                  NaN   \n",
       "4  891327558926688256                    NaN                  NaN   \n",
       "\n",
       "                   timestamp  \\\n",
       "0  2017-08-01 16:23:56 +0000   \n",
       "1  2017-08-01 00:17:27 +0000   \n",
       "2  2017-07-31 00:18:03 +0000   \n",
       "3  2017-07-30 15:58:51 +0000   \n",
       "4  2017-07-29 16:00:24 +0000   \n",
       "\n",
       "                                              source  \\\n",
       "0  <a href=\"http://twitter.com/download/iphone\" r...   \n",
       "1  <a href=\"http://twitter.com/download/iphone\" r...   \n",
       "2  <a href=\"http://twitter.com/download/iphone\" r...   \n",
       "3  <a href=\"http://twitter.com/download/iphone\" r...   \n",
       "4  <a href=\"http://twitter.com/download/iphone\" r...   \n",
       "\n",
       "                                                text  retweeted_status_id  \\\n",
       "0  This is Phineas. He's a mystical boy. Only eve...                  NaN   \n",
       "1  This is Tilly. She's just checking pup on you....                  NaN   \n",
       "2  This is Archie. He is a rare Norwegian Pouncin...                  NaN   \n",
       "3  This is Darla. She commenced a snooze mid meal...                  NaN   \n",
       "4  This is Franklin. He would like you to stop ca...                  NaN   \n",
       "\n",
       "   retweeted_status_user_id retweeted_status_timestamp  \\\n",
       "0                       NaN                        NaN   \n",
       "1                       NaN                        NaN   \n",
       "2                       NaN                        NaN   \n",
       "3                       NaN                        NaN   \n",
       "4                       NaN                        NaN   \n",
       "\n",
       "                                       expanded_urls  rating_numerator  \\\n",
       "0  https://twitter.com/dog_rates/status/892420643...                13   \n",
       "1  https://twitter.com/dog_rates/status/892177421...                13   \n",
       "2  https://twitter.com/dog_rates/status/891815181...                12   \n",
       "3  https://twitter.com/dog_rates/status/891689557...                13   \n",
       "4  https://twitter.com/dog_rates/status/891327558...                12   \n",
       "\n",
       "   rating_denominator      name doggo floofer pupper puppo  \n",
       "0                  10   Phineas  None    None   None  None  \n",
       "1                  10     Tilly  None    None   None  None  \n",
       "2                  10    Archie  None    None   None  None  \n",
       "3                  10     Darla  None    None   None  None  \n",
       "4                  10  Franklin  None    None   None  None  "
      ]
     },
     "execution_count": 2,
     "metadata": {},
     "output_type": "execute_result"
    }
   ],
   "source": [
    "df_dogs=pd.read_csv(\"twitter-archive-enhanced.csv\")\n",
    "df_dogs.head()"
   ]
  },
  {
   "cell_type": "markdown",
   "id": "74d7473c",
   "metadata": {},
   "source": [
    "\n",
    "### 2. Name: Tweet image predictions (image_predictions.tsv)"
   ]
  },
  {
   "cell_type": "markdown",
   "id": "ccbb887a",
   "metadata": {},
   "source": [
    "this file will be obtained from a url using the requests library"
   ]
  },
  {
   "cell_type": "code",
   "execution_count": 3,
   "id": "0e404005",
   "metadata": {},
   "outputs": [],
   "source": [
    "#getting content from the url using request\n",
    "\n",
    "url=\"https://d17h27t6h515a5.cloudfront.net/topher/2017/August/599fd2ad_image-predictions/image-predictions.tsv\"\n",
    "results=requests.get(url)"
   ]
  },
  {
   "cell_type": "code",
   "execution_count": 4,
   "id": "f0430791",
   "metadata": {},
   "outputs": [],
   "source": [
    "#writting the content to a file\n",
    "\n",
    "with open(\"image-predictions.tsv\",mode='wb') as file:\n",
    "    file.write(results.content)"
   ]
  },
  {
   "cell_type": "code",
   "execution_count": 5,
   "id": "acc4aa71",
   "metadata": {},
   "outputs": [
    {
     "data": {
      "text/html": [
       "<div>\n",
       "<style scoped>\n",
       "    .dataframe tbody tr th:only-of-type {\n",
       "        vertical-align: middle;\n",
       "    }\n",
       "\n",
       "    .dataframe tbody tr th {\n",
       "        vertical-align: top;\n",
       "    }\n",
       "\n",
       "    .dataframe thead th {\n",
       "        text-align: right;\n",
       "    }\n",
       "</style>\n",
       "<table border=\"1\" class=\"dataframe\">\n",
       "  <thead>\n",
       "    <tr style=\"text-align: right;\">\n",
       "      <th></th>\n",
       "      <th>tweet_id</th>\n",
       "      <th>jpg_url</th>\n",
       "      <th>img_num</th>\n",
       "      <th>p1</th>\n",
       "      <th>p1_conf</th>\n",
       "      <th>p1_dog</th>\n",
       "      <th>p2</th>\n",
       "      <th>p2_conf</th>\n",
       "      <th>p2_dog</th>\n",
       "      <th>p3</th>\n",
       "      <th>p3_conf</th>\n",
       "      <th>p3_dog</th>\n",
       "    </tr>\n",
       "  </thead>\n",
       "  <tbody>\n",
       "    <tr>\n",
       "      <th>0</th>\n",
       "      <td>666020888022790149</td>\n",
       "      <td>https://pbs.twimg.com/media/CT4udn0WwAA0aMy.jpg</td>\n",
       "      <td>1</td>\n",
       "      <td>Welsh_springer_spaniel</td>\n",
       "      <td>0.465074</td>\n",
       "      <td>True</td>\n",
       "      <td>collie</td>\n",
       "      <td>0.156665</td>\n",
       "      <td>True</td>\n",
       "      <td>Shetland_sheepdog</td>\n",
       "      <td>0.061428</td>\n",
       "      <td>True</td>\n",
       "    </tr>\n",
       "    <tr>\n",
       "      <th>1</th>\n",
       "      <td>666029285002620928</td>\n",
       "      <td>https://pbs.twimg.com/media/CT42GRgUYAA5iDo.jpg</td>\n",
       "      <td>1</td>\n",
       "      <td>redbone</td>\n",
       "      <td>0.506826</td>\n",
       "      <td>True</td>\n",
       "      <td>miniature_pinscher</td>\n",
       "      <td>0.074192</td>\n",
       "      <td>True</td>\n",
       "      <td>Rhodesian_ridgeback</td>\n",
       "      <td>0.072010</td>\n",
       "      <td>True</td>\n",
       "    </tr>\n",
       "    <tr>\n",
       "      <th>2</th>\n",
       "      <td>666033412701032449</td>\n",
       "      <td>https://pbs.twimg.com/media/CT4521TWwAEvMyu.jpg</td>\n",
       "      <td>1</td>\n",
       "      <td>German_shepherd</td>\n",
       "      <td>0.596461</td>\n",
       "      <td>True</td>\n",
       "      <td>malinois</td>\n",
       "      <td>0.138584</td>\n",
       "      <td>True</td>\n",
       "      <td>bloodhound</td>\n",
       "      <td>0.116197</td>\n",
       "      <td>True</td>\n",
       "    </tr>\n",
       "    <tr>\n",
       "      <th>3</th>\n",
       "      <td>666044226329800704</td>\n",
       "      <td>https://pbs.twimg.com/media/CT5Dr8HUEAA-lEu.jpg</td>\n",
       "      <td>1</td>\n",
       "      <td>Rhodesian_ridgeback</td>\n",
       "      <td>0.408143</td>\n",
       "      <td>True</td>\n",
       "      <td>redbone</td>\n",
       "      <td>0.360687</td>\n",
       "      <td>True</td>\n",
       "      <td>miniature_pinscher</td>\n",
       "      <td>0.222752</td>\n",
       "      <td>True</td>\n",
       "    </tr>\n",
       "    <tr>\n",
       "      <th>4</th>\n",
       "      <td>666049248165822465</td>\n",
       "      <td>https://pbs.twimg.com/media/CT5IQmsXIAAKY4A.jpg</td>\n",
       "      <td>1</td>\n",
       "      <td>miniature_pinscher</td>\n",
       "      <td>0.560311</td>\n",
       "      <td>True</td>\n",
       "      <td>Rottweiler</td>\n",
       "      <td>0.243682</td>\n",
       "      <td>True</td>\n",
       "      <td>Doberman</td>\n",
       "      <td>0.154629</td>\n",
       "      <td>True</td>\n",
       "    </tr>\n",
       "  </tbody>\n",
       "</table>\n",
       "</div>"
      ],
      "text/plain": [
       "             tweet_id                                          jpg_url  \\\n",
       "0  666020888022790149  https://pbs.twimg.com/media/CT4udn0WwAA0aMy.jpg   \n",
       "1  666029285002620928  https://pbs.twimg.com/media/CT42GRgUYAA5iDo.jpg   \n",
       "2  666033412701032449  https://pbs.twimg.com/media/CT4521TWwAEvMyu.jpg   \n",
       "3  666044226329800704  https://pbs.twimg.com/media/CT5Dr8HUEAA-lEu.jpg   \n",
       "4  666049248165822465  https://pbs.twimg.com/media/CT5IQmsXIAAKY4A.jpg   \n",
       "\n",
       "   img_num                      p1   p1_conf  p1_dog                  p2  \\\n",
       "0        1  Welsh_springer_spaniel  0.465074    True              collie   \n",
       "1        1                 redbone  0.506826    True  miniature_pinscher   \n",
       "2        1         German_shepherd  0.596461    True            malinois   \n",
       "3        1     Rhodesian_ridgeback  0.408143    True             redbone   \n",
       "4        1      miniature_pinscher  0.560311    True          Rottweiler   \n",
       "\n",
       "    p2_conf  p2_dog                   p3   p3_conf  p3_dog  \n",
       "0  0.156665    True    Shetland_sheepdog  0.061428    True  \n",
       "1  0.074192    True  Rhodesian_ridgeback  0.072010    True  \n",
       "2  0.138584    True           bloodhound  0.116197    True  \n",
       "3  0.360687    True   miniature_pinscher  0.222752    True  \n",
       "4  0.243682    True             Doberman  0.154629    True  "
      ]
     },
     "execution_count": 5,
     "metadata": {},
     "output_type": "execute_result"
    }
   ],
   "source": [
    "df_image_pred=pd.read_csv(\"image-predictions.tsv\", sep='\\t')\n",
    "df_image_pred.head()"
   ]
  },
  {
   "cell_type": "markdown",
   "id": "97e24223",
   "metadata": {},
   "source": [
    "### 3. Name: Additional data (tweet_json.txt) "
   ]
  },
  {
   "cell_type": "markdown",
   "id": "78b0e140",
   "metadata": {},
   "source": [
    "this data was gathered from the twitter API "
   ]
  },
  {
   "cell_type": "code",
   "execution_count": 6,
   "id": "253a5305",
   "metadata": {},
   "outputs": [],
   "source": [
    "# Query Twitter API for each tweet in the Twitter archive and save JSON in a text file\n",
    "# These are hidden to comply with Twitter's API terms and conditions\n",
    "consumer_key = 'HIDDEN'\n",
    "consumer_secret = 'HIDDEN'\n",
    "access_token = 'HIDDEN'\n",
    "access_secret = 'HIDDEN'\n"
   ]
  },
  {
   "cell_type": "code",
   "execution_count": 7,
   "id": "6d9bbe45",
   "metadata": {},
   "outputs": [],
   "source": [
    "auth =tweepy.OAuthHandler(consumer_key, consumer_secret)\n",
    "auth.set_access_token(access_token, access_secret)\n"
   ]
  },
  {
   "cell_type": "code",
   "execution_count": 8,
   "id": "bf2df4c6",
   "metadata": {},
   "outputs": [],
   "source": [
    "api = tweepy.API(auth, wait_on_rate_limit=True)"
   ]
  },
  {
   "cell_type": "markdown",
   "id": "7f590439",
   "metadata": {},
   "source": [
    "the code for gathering this next data was gotten from the following links:\n",
    "1. https://towardsdatascience.com/flattening-json-objects-in-python-f5343c794b10\n",
    "2. https://stackabuse.com/reading-and-writing-json-to-a-file-in-python/"
   ]
  },
  {
   "cell_type": "code",
   "execution_count": 9,
   "id": "93da7ebf",
   "metadata": {},
   "outputs": [
    {
     "data": {
      "text/html": [
       "<div>\n",
       "<style scoped>\n",
       "    .dataframe tbody tr th:only-of-type {\n",
       "        vertical-align: middle;\n",
       "    }\n",
       "\n",
       "    .dataframe tbody tr th {\n",
       "        vertical-align: top;\n",
       "    }\n",
       "\n",
       "    .dataframe thead th {\n",
       "        text-align: right;\n",
       "    }\n",
       "</style>\n",
       "<table border=\"1\" class=\"dataframe\">\n",
       "  <thead>\n",
       "    <tr style=\"text-align: right;\">\n",
       "      <th></th>\n",
       "      <th>tweet_id</th>\n",
       "      <th>retweet_count</th>\n",
       "      <th>favorite_count</th>\n",
       "      <th>retweeted</th>\n",
       "      <th>display_text_range</th>\n",
       "    </tr>\n",
       "  </thead>\n",
       "  <tbody>\n",
       "    <tr>\n",
       "      <th>0</th>\n",
       "      <td>892420643555336193</td>\n",
       "      <td>8853</td>\n",
       "      <td>39467</td>\n",
       "      <td>False</td>\n",
       "      <td>[0, 85]</td>\n",
       "    </tr>\n",
       "    <tr>\n",
       "      <th>1</th>\n",
       "      <td>892177421306343426</td>\n",
       "      <td>6514</td>\n",
       "      <td>33819</td>\n",
       "      <td>False</td>\n",
       "      <td>[0, 138]</td>\n",
       "    </tr>\n",
       "    <tr>\n",
       "      <th>2</th>\n",
       "      <td>891815181378084864</td>\n",
       "      <td>4328</td>\n",
       "      <td>25461</td>\n",
       "      <td>False</td>\n",
       "      <td>[0, 121]</td>\n",
       "    </tr>\n",
       "    <tr>\n",
       "      <th>3</th>\n",
       "      <td>891689557279858688</td>\n",
       "      <td>8964</td>\n",
       "      <td>42908</td>\n",
       "      <td>False</td>\n",
       "      <td>[0, 79]</td>\n",
       "    </tr>\n",
       "    <tr>\n",
       "      <th>4</th>\n",
       "      <td>891327558926688256</td>\n",
       "      <td>9774</td>\n",
       "      <td>41048</td>\n",
       "      <td>False</td>\n",
       "      <td>[0, 138]</td>\n",
       "    </tr>\n",
       "  </tbody>\n",
       "</table>\n",
       "</div>"
      ],
      "text/plain": [
       "             tweet_id  retweet_count  favorite_count  retweeted  \\\n",
       "0  892420643555336193           8853           39467      False   \n",
       "1  892177421306343426           6514           33819      False   \n",
       "2  891815181378084864           4328           25461      False   \n",
       "3  891689557279858688           8964           42908      False   \n",
       "4  891327558926688256           9774           41048      False   \n",
       "\n",
       "  display_text_range  \n",
       "0            [0, 85]  \n",
       "1           [0, 138]  \n",
       "2           [0, 121]  \n",
       "3            [0, 79]  \n",
       "4           [0, 138]  "
      ]
     },
     "execution_count": 9,
     "metadata": {},
     "output_type": "execute_result"
    }
   ],
   "source": [
    "api_data = []\n",
    "\n",
    "#read the created file\n",
    "with open(\"tweet-json.txt\", \"r\") as f:\n",
    "    for line in f:\n",
    "        try: \n",
    "            tweet = json.loads(line)\n",
    "            #append a dictionary to the created list            \n",
    "            api_data.append({\n",
    "                \"tweet_id\": tweet[\"id\"],\n",
    "                \"retweet_count\": tweet[\"retweet_count\"],\n",
    "                \"favorite_count\": tweet[\"favorite_count\"],\n",
    "                \"retweeted\": tweet[\"retweeted\"],\n",
    "                \"display_text_range\": tweet[\"display_text_range\"]})             \n",
    "        except:\n",
    "            print(\"Error.\") \n",
    "            \n",
    "df_api = pd.DataFrame(api_data, columns = [\"tweet_id\", \"retweet_count\", \"favorite_count\", \"retweeted\", \"display_text_range\"])\n",
    "df_api.head()"
   ]
  },
  {
   "cell_type": "markdown",
   "id": "abb28a73",
   "metadata": {},
   "source": [
    "## ASSESSING\n",
    "\n",
    "checking for tidiness and quality issues"
   ]
  },
  {
   "cell_type": "markdown",
   "id": "4ad2a808",
   "metadata": {},
   "source": [
    "### 1. Name: WeRateDogs(twitter-archive-enhanced.csv)"
   ]
  },
  {
   "cell_type": "code",
   "execution_count": 10,
   "id": "18742983",
   "metadata": {},
   "outputs": [
    {
     "data": {
      "text/html": [
       "<div>\n",
       "<style scoped>\n",
       "    .dataframe tbody tr th:only-of-type {\n",
       "        vertical-align: middle;\n",
       "    }\n",
       "\n",
       "    .dataframe tbody tr th {\n",
       "        vertical-align: top;\n",
       "    }\n",
       "\n",
       "    .dataframe thead th {\n",
       "        text-align: right;\n",
       "    }\n",
       "</style>\n",
       "<table border=\"1\" class=\"dataframe\">\n",
       "  <thead>\n",
       "    <tr style=\"text-align: right;\">\n",
       "      <th></th>\n",
       "      <th>tweet_id</th>\n",
       "      <th>in_reply_to_status_id</th>\n",
       "      <th>in_reply_to_user_id</th>\n",
       "      <th>timestamp</th>\n",
       "      <th>source</th>\n",
       "      <th>text</th>\n",
       "      <th>retweeted_status_id</th>\n",
       "      <th>retweeted_status_user_id</th>\n",
       "      <th>retweeted_status_timestamp</th>\n",
       "      <th>expanded_urls</th>\n",
       "      <th>rating_numerator</th>\n",
       "      <th>rating_denominator</th>\n",
       "      <th>name</th>\n",
       "      <th>doggo</th>\n",
       "      <th>floofer</th>\n",
       "      <th>pupper</th>\n",
       "      <th>puppo</th>\n",
       "    </tr>\n",
       "  </thead>\n",
       "  <tbody>\n",
       "    <tr>\n",
       "      <th>507</th>\n",
       "      <td>812709060537683968</td>\n",
       "      <td>NaN</td>\n",
       "      <td>NaN</td>\n",
       "      <td>2016-12-24 17:18:34 +0000</td>\n",
       "      <td>&lt;a href=\"http://twitter.com/download/iphone\" r...</td>\n",
       "      <td>This is Brandi and Harley. They are practicing...</td>\n",
       "      <td>NaN</td>\n",
       "      <td>NaN</td>\n",
       "      <td>NaN</td>\n",
       "      <td>https://twitter.com/dog_rates/status/812709060...</td>\n",
       "      <td>12</td>\n",
       "      <td>10</td>\n",
       "      <td>Brandi</td>\n",
       "      <td>None</td>\n",
       "      <td>None</td>\n",
       "      <td>None</td>\n",
       "      <td>None</td>\n",
       "    </tr>\n",
       "    <tr>\n",
       "      <th>1453</th>\n",
       "      <td>695629776980148225</td>\n",
       "      <td>NaN</td>\n",
       "      <td>NaN</td>\n",
       "      <td>2016-02-05 15:27:17 +0000</td>\n",
       "      <td>&lt;a href=\"http://twitter.com/download/iphone\" r...</td>\n",
       "      <td>Meet Calvin. He's proof that degrees mean abso...</td>\n",
       "      <td>NaN</td>\n",
       "      <td>NaN</td>\n",
       "      <td>NaN</td>\n",
       "      <td>https://twitter.com/dog_rates/status/695629776...</td>\n",
       "      <td>8</td>\n",
       "      <td>10</td>\n",
       "      <td>Calvin</td>\n",
       "      <td>None</td>\n",
       "      <td>None</td>\n",
       "      <td>None</td>\n",
       "      <td>None</td>\n",
       "    </tr>\n",
       "    <tr>\n",
       "      <th>1074</th>\n",
       "      <td>739844404073074688</td>\n",
       "      <td>NaN</td>\n",
       "      <td>NaN</td>\n",
       "      <td>2016-06-06 15:40:26 +0000</td>\n",
       "      <td>&lt;a href=\"http://twitter.com/download/iphone\" r...</td>\n",
       "      <td>This is Simba. He's the grand prize. The troph...</td>\n",
       "      <td>NaN</td>\n",
       "      <td>NaN</td>\n",
       "      <td>NaN</td>\n",
       "      <td>https://twitter.com/dog_rates/status/739844404...</td>\n",
       "      <td>12</td>\n",
       "      <td>10</td>\n",
       "      <td>Simba</td>\n",
       "      <td>None</td>\n",
       "      <td>None</td>\n",
       "      <td>None</td>\n",
       "      <td>None</td>\n",
       "    </tr>\n",
       "    <tr>\n",
       "      <th>1139</th>\n",
       "      <td>728015554473250816</td>\n",
       "      <td>NaN</td>\n",
       "      <td>NaN</td>\n",
       "      <td>2016-05-05 00:16:48 +0000</td>\n",
       "      <td>&lt;a href=\"http://twitter.com/download/iphone\" r...</td>\n",
       "      <td>This is Rueben. He has reached ultimate pupper...</td>\n",
       "      <td>NaN</td>\n",
       "      <td>NaN</td>\n",
       "      <td>NaN</td>\n",
       "      <td>https://twitter.com/dog_rates/status/728015554...</td>\n",
       "      <td>11</td>\n",
       "      <td>10</td>\n",
       "      <td>Rueben</td>\n",
       "      <td>None</td>\n",
       "      <td>None</td>\n",
       "      <td>pupper</td>\n",
       "      <td>None</td>\n",
       "    </tr>\n",
       "    <tr>\n",
       "      <th>304</th>\n",
       "      <td>836380477523124226</td>\n",
       "      <td>NaN</td>\n",
       "      <td>NaN</td>\n",
       "      <td>2017-02-28 01:00:19 +0000</td>\n",
       "      <td>&lt;a href=\"http://twitter.com/download/iphone\" r...</td>\n",
       "      <td>This is Ava. She just blasted off. Streamline ...</td>\n",
       "      <td>NaN</td>\n",
       "      <td>NaN</td>\n",
       "      <td>NaN</td>\n",
       "      <td>https://twitter.com/dog_rates/status/836380477...</td>\n",
       "      <td>12</td>\n",
       "      <td>10</td>\n",
       "      <td>Ava</td>\n",
       "      <td>None</td>\n",
       "      <td>None</td>\n",
       "      <td>pupper</td>\n",
       "      <td>None</td>\n",
       "    </tr>\n",
       "  </tbody>\n",
       "</table>\n",
       "</div>"
      ],
      "text/plain": [
       "                tweet_id  in_reply_to_status_id  in_reply_to_user_id  \\\n",
       "507   812709060537683968                    NaN                  NaN   \n",
       "1453  695629776980148225                    NaN                  NaN   \n",
       "1074  739844404073074688                    NaN                  NaN   \n",
       "1139  728015554473250816                    NaN                  NaN   \n",
       "304   836380477523124226                    NaN                  NaN   \n",
       "\n",
       "                      timestamp  \\\n",
       "507   2016-12-24 17:18:34 +0000   \n",
       "1453  2016-02-05 15:27:17 +0000   \n",
       "1074  2016-06-06 15:40:26 +0000   \n",
       "1139  2016-05-05 00:16:48 +0000   \n",
       "304   2017-02-28 01:00:19 +0000   \n",
       "\n",
       "                                                 source  \\\n",
       "507   <a href=\"http://twitter.com/download/iphone\" r...   \n",
       "1453  <a href=\"http://twitter.com/download/iphone\" r...   \n",
       "1074  <a href=\"http://twitter.com/download/iphone\" r...   \n",
       "1139  <a href=\"http://twitter.com/download/iphone\" r...   \n",
       "304   <a href=\"http://twitter.com/download/iphone\" r...   \n",
       "\n",
       "                                                   text  retweeted_status_id  \\\n",
       "507   This is Brandi and Harley. They are practicing...                  NaN   \n",
       "1453  Meet Calvin. He's proof that degrees mean abso...                  NaN   \n",
       "1074  This is Simba. He's the grand prize. The troph...                  NaN   \n",
       "1139  This is Rueben. He has reached ultimate pupper...                  NaN   \n",
       "304   This is Ava. She just blasted off. Streamline ...                  NaN   \n",
       "\n",
       "      retweeted_status_user_id retweeted_status_timestamp  \\\n",
       "507                        NaN                        NaN   \n",
       "1453                       NaN                        NaN   \n",
       "1074                       NaN                        NaN   \n",
       "1139                       NaN                        NaN   \n",
       "304                        NaN                        NaN   \n",
       "\n",
       "                                          expanded_urls  rating_numerator  \\\n",
       "507   https://twitter.com/dog_rates/status/812709060...                12   \n",
       "1453  https://twitter.com/dog_rates/status/695629776...                 8   \n",
       "1074  https://twitter.com/dog_rates/status/739844404...                12   \n",
       "1139  https://twitter.com/dog_rates/status/728015554...                11   \n",
       "304   https://twitter.com/dog_rates/status/836380477...                12   \n",
       "\n",
       "      rating_denominator    name doggo floofer  pupper puppo  \n",
       "507                   10  Brandi  None    None    None  None  \n",
       "1453                  10  Calvin  None    None    None  None  \n",
       "1074                  10   Simba  None    None    None  None  \n",
       "1139                  10  Rueben  None    None  pupper  None  \n",
       "304                   10     Ava  None    None  pupper  None  "
      ]
     },
     "execution_count": 10,
     "metadata": {},
     "output_type": "execute_result"
    }
   ],
   "source": [
    "df_dogs.sample(5)"
   ]
  },
  {
   "cell_type": "markdown",
   "id": "b9680570",
   "metadata": {},
   "source": [
    "after visually assessing the dataset some of  the issues with the dataset are:\n",
    "\n",
    "1. some of the columns such as name ,doggo, floofer, pupper contains a 'NONE' value"
   ]
  },
  {
   "cell_type": "code",
   "execution_count": 11,
   "id": "37a0d02e",
   "metadata": {},
   "outputs": [
    {
     "data": {
      "text/plain": [
       "tweet_id                        int64\n",
       "in_reply_to_status_id         float64\n",
       "in_reply_to_user_id           float64\n",
       "timestamp                      object\n",
       "source                         object\n",
       "text                           object\n",
       "retweeted_status_id           float64\n",
       "retweeted_status_user_id      float64\n",
       "retweeted_status_timestamp     object\n",
       "expanded_urls                  object\n",
       "rating_numerator                int64\n",
       "rating_denominator              int64\n",
       "name                           object\n",
       "doggo                          object\n",
       "floofer                        object\n",
       "pupper                         object\n",
       "puppo                          object\n",
       "dtype: object"
      ]
     },
     "execution_count": 11,
     "metadata": {},
     "output_type": "execute_result"
    }
   ],
   "source": [
    "df_dogs.dtypes"
   ]
  },
  {
   "cell_type": "markdown",
   "id": "d8cf6821",
   "metadata": {},
   "source": [
    "we can see that some of the columns should have wrong datatype such as:\n",
    "\n",
    "1. the tweet id should be a string datatype\n",
    "\n",
    "2. the timestamp column should be a datetime datatype"
   ]
  },
  {
   "cell_type": "code",
   "execution_count": 12,
   "id": "76137231",
   "metadata": {},
   "outputs": [
    {
     "name": "stdout",
     "output_type": "stream",
     "text": [
      "<class 'pandas.core.frame.DataFrame'>\n",
      "RangeIndex: 2356 entries, 0 to 2355\n",
      "Data columns (total 17 columns):\n",
      " #   Column                      Non-Null Count  Dtype  \n",
      "---  ------                      --------------  -----  \n",
      " 0   tweet_id                    2356 non-null   int64  \n",
      " 1   in_reply_to_status_id       78 non-null     float64\n",
      " 2   in_reply_to_user_id         78 non-null     float64\n",
      " 3   timestamp                   2356 non-null   object \n",
      " 4   source                      2356 non-null   object \n",
      " 5   text                        2356 non-null   object \n",
      " 6   retweeted_status_id         181 non-null    float64\n",
      " 7   retweeted_status_user_id    181 non-null    float64\n",
      " 8   retweeted_status_timestamp  181 non-null    object \n",
      " 9   expanded_urls               2297 non-null   object \n",
      " 10  rating_numerator            2356 non-null   int64  \n",
      " 11  rating_denominator          2356 non-null   int64  \n",
      " 12  name                        2356 non-null   object \n",
      " 13  doggo                       2356 non-null   object \n",
      " 14  floofer                     2356 non-null   object \n",
      " 15  pupper                      2356 non-null   object \n",
      " 16  puppo                       2356 non-null   object \n",
      "dtypes: float64(4), int64(3), object(10)\n",
      "memory usage: 313.0+ KB\n"
     ]
    }
   ],
   "source": [
    "df_dogs.info()"
   ]
  },
  {
   "cell_type": "markdown",
   "id": "30bdb2b5",
   "metadata": {},
   "source": [
    "the following columns contain a lot pf missing data: \n",
    "\n",
    "in_reply_to_status_id,in_reply_to_user_id,retweeted_status_id,retweeted_status_user_id, retweeted_status_timestamp columns"
   ]
  },
  {
   "cell_type": "code",
   "execution_count": 13,
   "id": "746be58d",
   "metadata": {},
   "outputs": [
    {
     "data": {
      "text/plain": [
       "0"
      ]
     },
     "execution_count": 13,
     "metadata": {},
     "output_type": "execute_result"
    }
   ],
   "source": [
    "#lets check for duplicated rows \n",
    "\n",
    "df_dogs.duplicated().sum()"
   ]
  },
  {
   "cell_type": "markdown",
   "id": "038b2de2",
   "metadata": {},
   "source": [
    "there are no duplicate rows in the dataset"
   ]
  },
  {
   "cell_type": "markdown",
   "id": "f4f15aba",
   "metadata": {},
   "source": [
    "now lets check for the 'None values contained in some of  the columns "
   ]
  },
  {
   "cell_type": "code",
   "execution_count": 14,
   "id": "62ac8176",
   "metadata": {},
   "outputs": [
    {
     "data": {
      "text/plain": [
       "None          745\n",
       "a              55\n",
       "Charlie        12\n",
       "Cooper         11\n",
       "Lucy           11\n",
       "             ... \n",
       "Dex             1\n",
       "Ace             1\n",
       "Tayzie          1\n",
       "Grizzie         1\n",
       "Christoper      1\n",
       "Name: name, Length: 957, dtype: int64"
      ]
     },
     "execution_count": 14,
     "metadata": {},
     "output_type": "execute_result"
    }
   ],
   "source": [
    "df_dogs.name.value_counts()"
   ]
  },
  {
   "cell_type": "markdown",
   "id": "050135d1",
   "metadata": {},
   "source": [
    "there are significant 'None' values which is a wrong name\n",
    "\n",
    "there is also some 'a' values which also seems like a wrong name"
   ]
  },
  {
   "cell_type": "code",
   "execution_count": 15,
   "id": "301ac016",
   "metadata": {},
   "outputs": [],
   "source": [
    "#creating a copy of the dataframe to perform further assessment\n",
    "\n",
    "df_dogs_ass = df_dogs.copy()"
   ]
  },
  {
   "cell_type": "code",
   "execution_count": 16,
   "id": "c879d3b1",
   "metadata": {},
   "outputs": [
    {
     "data": {
      "text/plain": [
       "None     2259\n",
       "doggo      97\n",
       "Name: doggo, dtype: int64"
      ]
     },
     "execution_count": 16,
     "metadata": {},
     "output_type": "execute_result"
    }
   ],
   "source": [
    "#checking to see count of doggo column are 'None' values\n",
    "\n",
    "df_dogs_ass[\"doggo\"].value_counts()"
   ]
  },
  {
   "cell_type": "code",
   "execution_count": 17,
   "id": "daf6d740",
   "metadata": {},
   "outputs": [
    {
     "data": {
      "text/plain": [
       "None       2346\n",
       "floofer      10\n",
       "Name: floofer, dtype: int64"
      ]
     },
     "execution_count": 17,
     "metadata": {},
     "output_type": "execute_result"
    }
   ],
   "source": [
    "#checking to see count of floofer column are 'None' values\n",
    "\n",
    "df_dogs_ass[\"floofer\"].value_counts()"
   ]
  },
  {
   "cell_type": "code",
   "execution_count": 18,
   "id": "ae3f1389",
   "metadata": {},
   "outputs": [
    {
     "data": {
      "text/plain": [
       "None      2099\n",
       "pupper     257\n",
       "Name: pupper, dtype: int64"
      ]
     },
     "execution_count": 18,
     "metadata": {},
     "output_type": "execute_result"
    }
   ],
   "source": [
    "#checking to see count of pupper values are 'None' values\n",
    "\n",
    "df_dogs_ass[\"pupper\"].value_counts()"
   ]
  },
  {
   "cell_type": "code",
   "execution_count": 19,
   "id": "811ede3c",
   "metadata": {},
   "outputs": [
    {
     "data": {
      "text/plain": [
       "None     2326\n",
       "puppo      30\n",
       "Name: puppo, dtype: int64"
      ]
     },
     "execution_count": 19,
     "metadata": {},
     "output_type": "execute_result"
    }
   ],
   "source": [
    "#checking to see count of pupper values are 'None' values\n",
    "\n",
    "df_dogs_ass[\"puppo\"].value_counts()"
   ]
  },
  {
   "cell_type": "markdown",
   "id": "feedd613",
   "metadata": {},
   "source": [
    "the pupper, doggo,  pupper columns have a chunk of thier values 'None'"
   ]
  },
  {
   "cell_type": "code",
   "execution_count": 20,
   "id": "9ca83453",
   "metadata": {},
   "outputs": [],
   "source": [
    "### 2. Name: Tweet image predictions (image_predictions.tsv)"
   ]
  },
  {
   "cell_type": "code",
   "execution_count": 21,
   "id": "1af3dd29",
   "metadata": {},
   "outputs": [
    {
     "data": {
      "text/html": [
       "<div>\n",
       "<style scoped>\n",
       "    .dataframe tbody tr th:only-of-type {\n",
       "        vertical-align: middle;\n",
       "    }\n",
       "\n",
       "    .dataframe tbody tr th {\n",
       "        vertical-align: top;\n",
       "    }\n",
       "\n",
       "    .dataframe thead th {\n",
       "        text-align: right;\n",
       "    }\n",
       "</style>\n",
       "<table border=\"1\" class=\"dataframe\">\n",
       "  <thead>\n",
       "    <tr style=\"text-align: right;\">\n",
       "      <th></th>\n",
       "      <th>tweet_id</th>\n",
       "      <th>jpg_url</th>\n",
       "      <th>img_num</th>\n",
       "      <th>p1</th>\n",
       "      <th>p1_conf</th>\n",
       "      <th>p1_dog</th>\n",
       "      <th>p2</th>\n",
       "      <th>p2_conf</th>\n",
       "      <th>p2_dog</th>\n",
       "      <th>p3</th>\n",
       "      <th>p3_conf</th>\n",
       "      <th>p3_dog</th>\n",
       "    </tr>\n",
       "  </thead>\n",
       "  <tbody>\n",
       "    <tr>\n",
       "      <th>258</th>\n",
       "      <td>670780561024270336</td>\n",
       "      <td>https://pbs.twimg.com/media/CU8XW2dWwAA-Lmc.jpg</td>\n",
       "      <td>1</td>\n",
       "      <td>Labrador_retriever</td>\n",
       "      <td>0.244889</td>\n",
       "      <td>True</td>\n",
       "      <td>American_black_bear</td>\n",
       "      <td>0.056993</td>\n",
       "      <td>False</td>\n",
       "      <td>brown_bear</td>\n",
       "      <td>0.053993</td>\n",
       "      <td>False</td>\n",
       "    </tr>\n",
       "    <tr>\n",
       "      <th>2060</th>\n",
       "      <td>889531135344209921</td>\n",
       "      <td>https://pbs.twimg.com/media/DFg_2PVW0AEHN3p.jpg</td>\n",
       "      <td>1</td>\n",
       "      <td>golden_retriever</td>\n",
       "      <td>0.953442</td>\n",
       "      <td>True</td>\n",
       "      <td>Labrador_retriever</td>\n",
       "      <td>0.013834</td>\n",
       "      <td>True</td>\n",
       "      <td>redbone</td>\n",
       "      <td>0.007958</td>\n",
       "      <td>True</td>\n",
       "    </tr>\n",
       "    <tr>\n",
       "      <th>637</th>\n",
       "      <td>681261549936340994</td>\n",
       "      <td>https://pbs.twimg.com/media/CXRTw_5WMAAUDVp.jpg</td>\n",
       "      <td>1</td>\n",
       "      <td>Tibetan_terrier</td>\n",
       "      <td>0.382101</td>\n",
       "      <td>True</td>\n",
       "      <td>miniature_poodle</td>\n",
       "      <td>0.095429</td>\n",
       "      <td>True</td>\n",
       "      <td>Maltese_dog</td>\n",
       "      <td>0.065738</td>\n",
       "      <td>True</td>\n",
       "    </tr>\n",
       "    <tr>\n",
       "      <th>1977</th>\n",
       "      <td>870374049280663552</td>\n",
       "      <td>https://pbs.twimg.com/media/DBQwlFCXkAACSkI.jpg</td>\n",
       "      <td>1</td>\n",
       "      <td>golden_retriever</td>\n",
       "      <td>0.841001</td>\n",
       "      <td>True</td>\n",
       "      <td>Great_Pyrenees</td>\n",
       "      <td>0.099278</td>\n",
       "      <td>True</td>\n",
       "      <td>Labrador_retriever</td>\n",
       "      <td>0.032621</td>\n",
       "      <td>True</td>\n",
       "    </tr>\n",
       "    <tr>\n",
       "      <th>726</th>\n",
       "      <td>686358356425093120</td>\n",
       "      <td>https://pbs.twimg.com/media/CYZvRttWYAE_RXc.jpg</td>\n",
       "      <td>1</td>\n",
       "      <td>pug</td>\n",
       "      <td>0.985237</td>\n",
       "      <td>True</td>\n",
       "      <td>bull_mastiff</td>\n",
       "      <td>0.008841</td>\n",
       "      <td>True</td>\n",
       "      <td>boxer</td>\n",
       "      <td>0.002321</td>\n",
       "      <td>True</td>\n",
       "    </tr>\n",
       "  </tbody>\n",
       "</table>\n",
       "</div>"
      ],
      "text/plain": [
       "                tweet_id                                          jpg_url  \\\n",
       "258   670780561024270336  https://pbs.twimg.com/media/CU8XW2dWwAA-Lmc.jpg   \n",
       "2060  889531135344209921  https://pbs.twimg.com/media/DFg_2PVW0AEHN3p.jpg   \n",
       "637   681261549936340994  https://pbs.twimg.com/media/CXRTw_5WMAAUDVp.jpg   \n",
       "1977  870374049280663552  https://pbs.twimg.com/media/DBQwlFCXkAACSkI.jpg   \n",
       "726   686358356425093120  https://pbs.twimg.com/media/CYZvRttWYAE_RXc.jpg   \n",
       "\n",
       "      img_num                  p1   p1_conf  p1_dog                   p2  \\\n",
       "258         1  Labrador_retriever  0.244889    True  American_black_bear   \n",
       "2060        1    golden_retriever  0.953442    True   Labrador_retriever   \n",
       "637         1     Tibetan_terrier  0.382101    True     miniature_poodle   \n",
       "1977        1    golden_retriever  0.841001    True       Great_Pyrenees   \n",
       "726         1                 pug  0.985237    True         bull_mastiff   \n",
       "\n",
       "       p2_conf  p2_dog                  p3   p3_conf  p3_dog  \n",
       "258   0.056993   False          brown_bear  0.053993   False  \n",
       "2060  0.013834    True             redbone  0.007958    True  \n",
       "637   0.095429    True         Maltese_dog  0.065738    True  \n",
       "1977  0.099278    True  Labrador_retriever  0.032621    True  \n",
       "726   0.008841    True               boxer  0.002321    True  "
      ]
     },
     "execution_count": 21,
     "metadata": {},
     "output_type": "execute_result"
    }
   ],
   "source": [
    "df_image_pred.sample(5)"
   ]
  },
  {
   "cell_type": "markdown",
   "id": "682f6df5",
   "metadata": {},
   "source": [
    "after visually assessing the dataset, some the issues with the dataset are:\n",
    "\n",
    "1. some of the predictions are in lowercase while some in uppercase\n",
    "\n",
    "2. there are underscores between some of the words instead of space  "
   ]
  },
  {
   "cell_type": "code",
   "execution_count": 22,
   "id": "5d90b45a",
   "metadata": {},
   "outputs": [
    {
     "data": {
      "text/plain": [
       "tweet_id      int64\n",
       "jpg_url      object\n",
       "img_num       int64\n",
       "p1           object\n",
       "p1_conf     float64\n",
       "p1_dog         bool\n",
       "p2           object\n",
       "p2_conf     float64\n",
       "p2_dog         bool\n",
       "p3           object\n",
       "p3_conf     float64\n",
       "p3_dog         bool\n",
       "dtype: object"
      ]
     },
     "execution_count": 22,
     "metadata": {},
     "output_type": "execute_result"
    }
   ],
   "source": [
    "#checking for wrong datatypes\n",
    "\n",
    "df_image_pred.dtypes"
   ]
  },
  {
   "cell_type": "markdown",
   "id": "5009a2ed",
   "metadata": {},
   "source": [
    "the tweet_id column should be a string"
   ]
  },
  {
   "cell_type": "code",
   "execution_count": 23,
   "id": "b1fd7b31",
   "metadata": {},
   "outputs": [
    {
     "name": "stdout",
     "output_type": "stream",
     "text": [
      "<class 'pandas.core.frame.DataFrame'>\n",
      "RangeIndex: 2075 entries, 0 to 2074\n",
      "Data columns (total 12 columns):\n",
      " #   Column    Non-Null Count  Dtype  \n",
      "---  ------    --------------  -----  \n",
      " 0   tweet_id  2075 non-null   int64  \n",
      " 1   jpg_url   2075 non-null   object \n",
      " 2   img_num   2075 non-null   int64  \n",
      " 3   p1        2075 non-null   object \n",
      " 4   p1_conf   2075 non-null   float64\n",
      " 5   p1_dog    2075 non-null   bool   \n",
      " 6   p2        2075 non-null   object \n",
      " 7   p2_conf   2075 non-null   float64\n",
      " 8   p2_dog    2075 non-null   bool   \n",
      " 9   p3        2075 non-null   object \n",
      " 10  p3_conf   2075 non-null   float64\n",
      " 11  p3_dog    2075 non-null   bool   \n",
      "dtypes: bool(3), float64(3), int64(2), object(4)\n",
      "memory usage: 152.1+ KB\n"
     ]
    }
   ],
   "source": [
    "#getting an overview of the dataset\n",
    "\n",
    "df_image_pred.info()"
   ]
  },
  {
   "cell_type": "markdown",
   "id": "db97b401",
   "metadata": {},
   "source": [
    "there are no missing values in the dataset"
   ]
  },
  {
   "cell_type": "code",
   "execution_count": 24,
   "id": "62b7341d",
   "metadata": {},
   "outputs": [
    {
     "data": {
      "text/plain": [
       "66"
      ]
     },
     "execution_count": 24,
     "metadata": {},
     "output_type": "execute_result"
    }
   ],
   "source": [
    "#checking for duplicated rows\n",
    "#more than 1 image cants have same url so we will check for duplicate urls\n",
    "\n",
    "df_image_pred.jpg_url.duplicated().sum()"
   ]
  },
  {
   "cell_type": "markdown",
   "id": "340d3a94",
   "metadata": {},
   "source": [
    "there are duplicate urls "
   ]
  },
  {
   "cell_type": "code",
   "execution_count": 25,
   "id": "e4e736a1",
   "metadata": {},
   "outputs": [
    {
     "data": {
      "text/plain": [
       "https://pbs.twimg.com/media/CZhn-QAWwAASQan.jpg                                            2\n",
       "https://pbs.twimg.com/media/Cq9guJ5WgAADfpF.jpg                                            2\n",
       "https://pbs.twimg.com/ext_tw_video_thumb/807106774843039744/pu/img/8XZg1xW35Xp2J6JW.jpg    2\n",
       "https://pbs.twimg.com/media/CU1zsMSUAAAS0qW.jpg                                            2\n",
       "https://pbs.twimg.com/media/CsrjryzWgAAZY00.jpg                                            2\n",
       "                                                                                          ..\n",
       "https://pbs.twimg.com/media/CXrmMSpUwAAdeRj.jpg                                            1\n",
       "https://pbs.twimg.com/media/CXrawAhWkAAWSxC.jpg                                            1\n",
       "https://pbs.twimg.com/media/CXrIntsUsAEkv0d.jpg                                            1\n",
       "https://pbs.twimg.com/media/CXqcOHCUQAAugTB.jpg                                            1\n",
       "https://pbs.twimg.com/media/DGKD1-bXoAAIAUK.jpg                                            1\n",
       "Name: jpg_url, Length: 2009, dtype: int64"
      ]
     },
     "execution_count": 25,
     "metadata": {},
     "output_type": "execute_result"
    }
   ],
   "source": [
    "#checking for retweets\n",
    "\n",
    "df_image_pred.jpg_url.value_counts()"
   ]
  },
  {
   "cell_type": "markdown",
   "id": "9d1c929e",
   "metadata": {},
   "source": [
    "lots of urls came up twice so retweets data are present"
   ]
  },
  {
   "cell_type": "code",
   "execution_count": 26,
   "id": "b4fc6f31",
   "metadata": {},
   "outputs": [
    {
     "data": {
      "text/plain": [
       "0"
      ]
     },
     "execution_count": 26,
     "metadata": {},
     "output_type": "execute_result"
    }
   ],
   "source": [
    "df_image_pred.tweet_id.duplicated().sum()"
   ]
  },
  {
   "cell_type": "markdown",
   "id": "3d586ccd",
   "metadata": {},
   "source": [
    "the duplicate urls have different tweet id"
   ]
  },
  {
   "cell_type": "code",
   "execution_count": 27,
   "id": "303e350b",
   "metadata": {},
   "outputs": [],
   "source": [
    "### 3. Name: Additional data (tweet_json.txt) "
   ]
  },
  {
   "cell_type": "code",
   "execution_count": 28,
   "id": "fc0a8f91",
   "metadata": {},
   "outputs": [
    {
     "data": {
      "text/html": [
       "<div>\n",
       "<style scoped>\n",
       "    .dataframe tbody tr th:only-of-type {\n",
       "        vertical-align: middle;\n",
       "    }\n",
       "\n",
       "    .dataframe tbody tr th {\n",
       "        vertical-align: top;\n",
       "    }\n",
       "\n",
       "    .dataframe thead th {\n",
       "        text-align: right;\n",
       "    }\n",
       "</style>\n",
       "<table border=\"1\" class=\"dataframe\">\n",
       "  <thead>\n",
       "    <tr style=\"text-align: right;\">\n",
       "      <th></th>\n",
       "      <th>tweet_id</th>\n",
       "      <th>retweet_count</th>\n",
       "      <th>favorite_count</th>\n",
       "      <th>retweeted</th>\n",
       "      <th>display_text_range</th>\n",
       "    </tr>\n",
       "  </thead>\n",
       "  <tbody>\n",
       "    <tr>\n",
       "      <th>1427</th>\n",
       "      <td>697596423848730625</td>\n",
       "      <td>1425</td>\n",
       "      <td>3306</td>\n",
       "      <td>False</td>\n",
       "      <td>[0, 117]</td>\n",
       "    </tr>\n",
       "    <tr>\n",
       "      <th>1216</th>\n",
       "      <td>714957620017307648</td>\n",
       "      <td>1595</td>\n",
       "      <td>4503</td>\n",
       "      <td>False</td>\n",
       "      <td>[0, 140]</td>\n",
       "    </tr>\n",
       "    <tr>\n",
       "      <th>1296</th>\n",
       "      <td>707741517457260545</td>\n",
       "      <td>696</td>\n",
       "      <td>2718</td>\n",
       "      <td>False</td>\n",
       "      <td>[0, 140]</td>\n",
       "    </tr>\n",
       "    <tr>\n",
       "      <th>392</th>\n",
       "      <td>825876512159186944</td>\n",
       "      <td>2146</td>\n",
       "      <td>11525</td>\n",
       "      <td>False</td>\n",
       "      <td>[0, 106]</td>\n",
       "    </tr>\n",
       "    <tr>\n",
       "      <th>101</th>\n",
       "      <td>872620804844003328</td>\n",
       "      <td>3911</td>\n",
       "      <td>21309</td>\n",
       "      <td>False</td>\n",
       "      <td>[0, 116]</td>\n",
       "    </tr>\n",
       "  </tbody>\n",
       "</table>\n",
       "</div>"
      ],
      "text/plain": [
       "                tweet_id  retweet_count  favorite_count  retweeted  \\\n",
       "1427  697596423848730625           1425            3306      False   \n",
       "1216  714957620017307648           1595            4503      False   \n",
       "1296  707741517457260545            696            2718      False   \n",
       "392   825876512159186944           2146           11525      False   \n",
       "101   872620804844003328           3911           21309      False   \n",
       "\n",
       "     display_text_range  \n",
       "1427           [0, 117]  \n",
       "1216           [0, 140]  \n",
       "1296           [0, 140]  \n",
       "392            [0, 106]  \n",
       "101            [0, 116]  "
      ]
     },
     "execution_count": 28,
     "metadata": {},
     "output_type": "execute_result"
    }
   ],
   "source": [
    "df_api.sample(5)"
   ]
  },
  {
   "cell_type": "code",
   "execution_count": 29,
   "id": "915dcfa6",
   "metadata": {},
   "outputs": [
    {
     "name": "stdout",
     "output_type": "stream",
     "text": [
      "<class 'pandas.core.frame.DataFrame'>\n",
      "RangeIndex: 2354 entries, 0 to 2353\n",
      "Data columns (total 5 columns):\n",
      " #   Column              Non-Null Count  Dtype \n",
      "---  ------              --------------  ----- \n",
      " 0   tweet_id            2354 non-null   int64 \n",
      " 1   retweet_count       2354 non-null   int64 \n",
      " 2   favorite_count      2354 non-null   int64 \n",
      " 3   retweeted           2354 non-null   bool  \n",
      " 4   display_text_range  2354 non-null   object\n",
      "dtypes: bool(1), int64(3), object(1)\n",
      "memory usage: 76.0+ KB\n"
     ]
    }
   ],
   "source": [
    "df_api.info()"
   ]
  },
  {
   "cell_type": "markdown",
   "id": "69b2987e",
   "metadata": {},
   "source": [
    "the tweet_id needs to be changed to string"
   ]
  },
  {
   "cell_type": "markdown",
   "id": "e162f74a",
   "metadata": {},
   "source": [
    "#### Quality\n",
    "##### `df_dogs` table\n",
    "- the id column should be a string datatype\n",
    "- the timestamp column should be a datetime datatype\n",
    "- some of the dog names are not correct (None, an)\n",
    "- it contains retweets\n",
    "\n",
    "##### `df_image_pred` table\n",
    "- the id column should be a string datatype\n",
    "- contains retweets (there are duplicate urls)\n",
    "- there are empty rows in the jpg_url column\n",
    "- there are underscores instead of whitespaces\n",
    "\n",
    "##### `df_api` table\n",
    "- the id column should be a string datatype"
   ]
  },
  {
   "cell_type": "markdown",
   "id": "6371a567",
   "metadata": {},
   "source": [
    "#### Tidiness\n",
    "##### `df_dogs` table\n",
    "the columns `doggo`, `floofer`,`pupper` and `puppo` columns should be combined into 1\n",
    "\n",
    "some of the columns are irrelevant\n",
    "##### `df_api` table\n",
    "- display_text_range has 2 variables\n",
    "- the dog predictions should be made into one column"
   ]
  },
  {
   "cell_type": "markdown",
   "id": "2387ee0c",
   "metadata": {},
   "source": [
    "## Clean"
   ]
  },
  {
   "cell_type": "code",
   "execution_count": 30,
   "id": "3ea37ed1",
   "metadata": {},
   "outputs": [],
   "source": [
    "df_dogs_clean=df_dogs.copy()\n",
    "df_image_pred_clean=df_image_pred.copy()\n",
    "df_image_pred_clean=df_image_pred.copy()"
   ]
  },
  {
   "cell_type": "markdown",
   "id": "71e62abf",
   "metadata": {},
   "source": [
    "##### Define\n"
   ]
  },
  {
   "cell_type": "markdown",
   "id": "e005d82a",
   "metadata": {},
   "source": [
    "creating a master dataset to tidy up, there are no missing data in tweet_id column\n",
    "so that should be the legth of the new dtaframe"
   ]
  },
  {
   "cell_type": "markdown",
   "id": "85af9c2e",
   "metadata": {},
   "source": [
    "##### Code"
   ]
  },
  {
   "cell_type": "code",
   "execution_count": 31,
   "id": "9b9c0adc",
   "metadata": {},
   "outputs": [],
   "source": [
    "\n",
    "df_master = pd.merge(df_dogs, df_api, on = \"tweet_id\", how = \"outer\")"
   ]
  },
  {
   "cell_type": "code",
   "execution_count": 32,
   "id": "cdc995f0",
   "metadata": {},
   "outputs": [],
   "source": [
    "df_master = pd.merge(df_master, df_image_pred, on = \"tweet_id\", how = \"outer\")"
   ]
  },
  {
   "cell_type": "markdown",
   "id": "60b38129",
   "metadata": {},
   "source": [
    "##### Test"
   ]
  },
  {
   "cell_type": "code",
   "execution_count": 33,
   "id": "43d4d1b9",
   "metadata": {},
   "outputs": [
    {
     "data": {
      "text/html": [
       "<div>\n",
       "<style scoped>\n",
       "    .dataframe tbody tr th:only-of-type {\n",
       "        vertical-align: middle;\n",
       "    }\n",
       "\n",
       "    .dataframe tbody tr th {\n",
       "        vertical-align: top;\n",
       "    }\n",
       "\n",
       "    .dataframe thead th {\n",
       "        text-align: right;\n",
       "    }\n",
       "</style>\n",
       "<table border=\"1\" class=\"dataframe\">\n",
       "  <thead>\n",
       "    <tr style=\"text-align: right;\">\n",
       "      <th></th>\n",
       "      <th>tweet_id</th>\n",
       "      <th>in_reply_to_status_id</th>\n",
       "      <th>in_reply_to_user_id</th>\n",
       "      <th>timestamp</th>\n",
       "      <th>source</th>\n",
       "      <th>text</th>\n",
       "      <th>retweeted_status_id</th>\n",
       "      <th>retweeted_status_user_id</th>\n",
       "      <th>retweeted_status_timestamp</th>\n",
       "      <th>expanded_urls</th>\n",
       "      <th>...</th>\n",
       "      <th>img_num</th>\n",
       "      <th>p1</th>\n",
       "      <th>p1_conf</th>\n",
       "      <th>p1_dog</th>\n",
       "      <th>p2</th>\n",
       "      <th>p2_conf</th>\n",
       "      <th>p2_dog</th>\n",
       "      <th>p3</th>\n",
       "      <th>p3_conf</th>\n",
       "      <th>p3_dog</th>\n",
       "    </tr>\n",
       "  </thead>\n",
       "  <tbody>\n",
       "    <tr>\n",
       "      <th>0</th>\n",
       "      <td>892420643555336193</td>\n",
       "      <td>NaN</td>\n",
       "      <td>NaN</td>\n",
       "      <td>2017-08-01 16:23:56 +0000</td>\n",
       "      <td>&lt;a href=\"http://twitter.com/download/iphone\" r...</td>\n",
       "      <td>This is Phineas. He's a mystical boy. Only eve...</td>\n",
       "      <td>NaN</td>\n",
       "      <td>NaN</td>\n",
       "      <td>NaN</td>\n",
       "      <td>https://twitter.com/dog_rates/status/892420643...</td>\n",
       "      <td>...</td>\n",
       "      <td>1.0</td>\n",
       "      <td>orange</td>\n",
       "      <td>0.097049</td>\n",
       "      <td>False</td>\n",
       "      <td>bagel</td>\n",
       "      <td>0.085851</td>\n",
       "      <td>False</td>\n",
       "      <td>banana</td>\n",
       "      <td>0.076110</td>\n",
       "      <td>False</td>\n",
       "    </tr>\n",
       "    <tr>\n",
       "      <th>1</th>\n",
       "      <td>892177421306343426</td>\n",
       "      <td>NaN</td>\n",
       "      <td>NaN</td>\n",
       "      <td>2017-08-01 00:17:27 +0000</td>\n",
       "      <td>&lt;a href=\"http://twitter.com/download/iphone\" r...</td>\n",
       "      <td>This is Tilly. She's just checking pup on you....</td>\n",
       "      <td>NaN</td>\n",
       "      <td>NaN</td>\n",
       "      <td>NaN</td>\n",
       "      <td>https://twitter.com/dog_rates/status/892177421...</td>\n",
       "      <td>...</td>\n",
       "      <td>1.0</td>\n",
       "      <td>Chihuahua</td>\n",
       "      <td>0.323581</td>\n",
       "      <td>True</td>\n",
       "      <td>Pekinese</td>\n",
       "      <td>0.090647</td>\n",
       "      <td>True</td>\n",
       "      <td>papillon</td>\n",
       "      <td>0.068957</td>\n",
       "      <td>True</td>\n",
       "    </tr>\n",
       "    <tr>\n",
       "      <th>2</th>\n",
       "      <td>891815181378084864</td>\n",
       "      <td>NaN</td>\n",
       "      <td>NaN</td>\n",
       "      <td>2017-07-31 00:18:03 +0000</td>\n",
       "      <td>&lt;a href=\"http://twitter.com/download/iphone\" r...</td>\n",
       "      <td>This is Archie. He is a rare Norwegian Pouncin...</td>\n",
       "      <td>NaN</td>\n",
       "      <td>NaN</td>\n",
       "      <td>NaN</td>\n",
       "      <td>https://twitter.com/dog_rates/status/891815181...</td>\n",
       "      <td>...</td>\n",
       "      <td>1.0</td>\n",
       "      <td>Chihuahua</td>\n",
       "      <td>0.716012</td>\n",
       "      <td>True</td>\n",
       "      <td>malamute</td>\n",
       "      <td>0.078253</td>\n",
       "      <td>True</td>\n",
       "      <td>kelpie</td>\n",
       "      <td>0.031379</td>\n",
       "      <td>True</td>\n",
       "    </tr>\n",
       "    <tr>\n",
       "      <th>3</th>\n",
       "      <td>891689557279858688</td>\n",
       "      <td>NaN</td>\n",
       "      <td>NaN</td>\n",
       "      <td>2017-07-30 15:58:51 +0000</td>\n",
       "      <td>&lt;a href=\"http://twitter.com/download/iphone\" r...</td>\n",
       "      <td>This is Darla. She commenced a snooze mid meal...</td>\n",
       "      <td>NaN</td>\n",
       "      <td>NaN</td>\n",
       "      <td>NaN</td>\n",
       "      <td>https://twitter.com/dog_rates/status/891689557...</td>\n",
       "      <td>...</td>\n",
       "      <td>1.0</td>\n",
       "      <td>paper_towel</td>\n",
       "      <td>0.170278</td>\n",
       "      <td>False</td>\n",
       "      <td>Labrador_retriever</td>\n",
       "      <td>0.168086</td>\n",
       "      <td>True</td>\n",
       "      <td>spatula</td>\n",
       "      <td>0.040836</td>\n",
       "      <td>False</td>\n",
       "    </tr>\n",
       "    <tr>\n",
       "      <th>4</th>\n",
       "      <td>891327558926688256</td>\n",
       "      <td>NaN</td>\n",
       "      <td>NaN</td>\n",
       "      <td>2017-07-29 16:00:24 +0000</td>\n",
       "      <td>&lt;a href=\"http://twitter.com/download/iphone\" r...</td>\n",
       "      <td>This is Franklin. He would like you to stop ca...</td>\n",
       "      <td>NaN</td>\n",
       "      <td>NaN</td>\n",
       "      <td>NaN</td>\n",
       "      <td>https://twitter.com/dog_rates/status/891327558...</td>\n",
       "      <td>...</td>\n",
       "      <td>2.0</td>\n",
       "      <td>basset</td>\n",
       "      <td>0.555712</td>\n",
       "      <td>True</td>\n",
       "      <td>English_springer</td>\n",
       "      <td>0.225770</td>\n",
       "      <td>True</td>\n",
       "      <td>German_short-haired_pointer</td>\n",
       "      <td>0.175219</td>\n",
       "      <td>True</td>\n",
       "    </tr>\n",
       "  </tbody>\n",
       "</table>\n",
       "<p>5 rows × 32 columns</p>\n",
       "</div>"
      ],
      "text/plain": [
       "             tweet_id  in_reply_to_status_id  in_reply_to_user_id  \\\n",
       "0  892420643555336193                    NaN                  NaN   \n",
       "1  892177421306343426                    NaN                  NaN   \n",
       "2  891815181378084864                    NaN                  NaN   \n",
       "3  891689557279858688                    NaN                  NaN   \n",
       "4  891327558926688256                    NaN                  NaN   \n",
       "\n",
       "                   timestamp  \\\n",
       "0  2017-08-01 16:23:56 +0000   \n",
       "1  2017-08-01 00:17:27 +0000   \n",
       "2  2017-07-31 00:18:03 +0000   \n",
       "3  2017-07-30 15:58:51 +0000   \n",
       "4  2017-07-29 16:00:24 +0000   \n",
       "\n",
       "                                              source  \\\n",
       "0  <a href=\"http://twitter.com/download/iphone\" r...   \n",
       "1  <a href=\"http://twitter.com/download/iphone\" r...   \n",
       "2  <a href=\"http://twitter.com/download/iphone\" r...   \n",
       "3  <a href=\"http://twitter.com/download/iphone\" r...   \n",
       "4  <a href=\"http://twitter.com/download/iphone\" r...   \n",
       "\n",
       "                                                text  retweeted_status_id  \\\n",
       "0  This is Phineas. He's a mystical boy. Only eve...                  NaN   \n",
       "1  This is Tilly. She's just checking pup on you....                  NaN   \n",
       "2  This is Archie. He is a rare Norwegian Pouncin...                  NaN   \n",
       "3  This is Darla. She commenced a snooze mid meal...                  NaN   \n",
       "4  This is Franklin. He would like you to stop ca...                  NaN   \n",
       "\n",
       "   retweeted_status_user_id retweeted_status_timestamp  \\\n",
       "0                       NaN                        NaN   \n",
       "1                       NaN                        NaN   \n",
       "2                       NaN                        NaN   \n",
       "3                       NaN                        NaN   \n",
       "4                       NaN                        NaN   \n",
       "\n",
       "                                       expanded_urls  ...  img_num  \\\n",
       "0  https://twitter.com/dog_rates/status/892420643...  ...      1.0   \n",
       "1  https://twitter.com/dog_rates/status/892177421...  ...      1.0   \n",
       "2  https://twitter.com/dog_rates/status/891815181...  ...      1.0   \n",
       "3  https://twitter.com/dog_rates/status/891689557...  ...      1.0   \n",
       "4  https://twitter.com/dog_rates/status/891327558...  ...      2.0   \n",
       "\n",
       "            p1   p1_conf p1_dog                  p2   p2_conf p2_dog  \\\n",
       "0       orange  0.097049  False               bagel  0.085851  False   \n",
       "1    Chihuahua  0.323581   True            Pekinese  0.090647   True   \n",
       "2    Chihuahua  0.716012   True            malamute  0.078253   True   \n",
       "3  paper_towel  0.170278  False  Labrador_retriever  0.168086   True   \n",
       "4       basset  0.555712   True    English_springer  0.225770   True   \n",
       "\n",
       "                            p3   p3_conf p3_dog  \n",
       "0                       banana  0.076110  False  \n",
       "1                     papillon  0.068957   True  \n",
       "2                       kelpie  0.031379   True  \n",
       "3                      spatula  0.040836  False  \n",
       "4  German_short-haired_pointer  0.175219   True  \n",
       "\n",
       "[5 rows x 32 columns]"
      ]
     },
     "execution_count": 33,
     "metadata": {},
     "output_type": "execute_result"
    }
   ],
   "source": [
    "df_master.head()"
   ]
  },
  {
   "cell_type": "code",
   "execution_count": 34,
   "id": "07475871",
   "metadata": {},
   "outputs": [
    {
     "name": "stdout",
     "output_type": "stream",
     "text": [
      "<class 'pandas.core.frame.DataFrame'>\n",
      "Int64Index: 2356 entries, 0 to 2355\n",
      "Data columns (total 32 columns):\n",
      " #   Column                      Non-Null Count  Dtype  \n",
      "---  ------                      --------------  -----  \n",
      " 0   tweet_id                    2356 non-null   int64  \n",
      " 1   in_reply_to_status_id       78 non-null     float64\n",
      " 2   in_reply_to_user_id         78 non-null     float64\n",
      " 3   timestamp                   2356 non-null   object \n",
      " 4   source                      2356 non-null   object \n",
      " 5   text                        2356 non-null   object \n",
      " 6   retweeted_status_id         181 non-null    float64\n",
      " 7   retweeted_status_user_id    181 non-null    float64\n",
      " 8   retweeted_status_timestamp  181 non-null    object \n",
      " 9   expanded_urls               2297 non-null   object \n",
      " 10  rating_numerator            2356 non-null   int64  \n",
      " 11  rating_denominator          2356 non-null   int64  \n",
      " 12  name                        2356 non-null   object \n",
      " 13  doggo                       2356 non-null   object \n",
      " 14  floofer                     2356 non-null   object \n",
      " 15  pupper                      2356 non-null   object \n",
      " 16  puppo                       2356 non-null   object \n",
      " 17  retweet_count               2354 non-null   float64\n",
      " 18  favorite_count              2354 non-null   float64\n",
      " 19  retweeted                   2354 non-null   object \n",
      " 20  display_text_range          2354 non-null   object \n",
      " 21  jpg_url                     2075 non-null   object \n",
      " 22  img_num                     2075 non-null   float64\n",
      " 23  p1                          2075 non-null   object \n",
      " 24  p1_conf                     2075 non-null   float64\n",
      " 25  p1_dog                      2075 non-null   object \n",
      " 26  p2                          2075 non-null   object \n",
      " 27  p2_conf                     2075 non-null   float64\n",
      " 28  p2_dog                      2075 non-null   object \n",
      " 29  p3                          2075 non-null   object \n",
      " 30  p3_conf                     2075 non-null   float64\n",
      " 31  p3_dog                      2075 non-null   object \n",
      "dtypes: float64(10), int64(3), object(19)\n",
      "memory usage: 607.4+ KB\n"
     ]
    }
   ],
   "source": [
    "df_master.info()"
   ]
  },
  {
   "cell_type": "code",
   "execution_count": 35,
   "id": "8276c8f2",
   "metadata": {},
   "outputs": [],
   "source": [
    "#creating a copy of the master dataset\n",
    "\n",
    "df_master_cleaned = df_master.copy()"
   ]
  },
  {
   "cell_type": "markdown",
   "id": "1cf33c82",
   "metadata": {},
   "source": [
    "#df_image_pred and df_dogs: contains retweets"
   ]
  },
  {
   "cell_type": "markdown",
   "id": "3dcafcf6",
   "metadata": {},
   "source": [
    "##### Define"
   ]
  },
  {
   "cell_type": "markdown",
   "id": "c44c5469",
   "metadata": {},
   "source": [
    "we want rows wihout retweeted_id data \n",
    "\n",
    "we also want rows without reply_id data"
   ]
  },
  {
   "cell_type": "markdown",
   "id": "1286621a",
   "metadata": {},
   "source": [
    "##### Code"
   ]
  },
  {
   "cell_type": "code",
   "execution_count": 36,
   "id": "5c7e5576",
   "metadata": {},
   "outputs": [],
   "source": [
    "filt=df_master_cleaned[\"retweeted_status_id\"].isnull()"
   ]
  },
  {
   "cell_type": "code",
   "execution_count": 37,
   "id": "b2be514b",
   "metadata": {},
   "outputs": [],
   "source": [
    "df_master_cleaned = df_master_cleaned[filt]"
   ]
  },
  {
   "cell_type": "code",
   "execution_count": 38,
   "id": "aa4d64c9",
   "metadata": {},
   "outputs": [],
   "source": [
    "filt1=df_master_cleaned[\"in_reply_to_status_id\"].isnull()"
   ]
  },
  {
   "cell_type": "code",
   "execution_count": 39,
   "id": "9de22819",
   "metadata": {},
   "outputs": [],
   "source": [
    "df_master_cleaned = df_master_cleaned[filt1]"
   ]
  },
  {
   "cell_type": "markdown",
   "id": "eb01933b",
   "metadata": {},
   "source": [
    "##### Test"
   ]
  },
  {
   "cell_type": "code",
   "execution_count": 40,
   "id": "d7d95a4e",
   "metadata": {},
   "outputs": [
    {
     "data": {
      "text/plain": [
       "False    2097\n",
       "Name: retweeted, dtype: int64"
      ]
     },
     "execution_count": 40,
     "metadata": {},
     "output_type": "execute_result"
    }
   ],
   "source": [
    "df_master_cleaned.retweeted.value_counts()"
   ]
  },
  {
   "cell_type": "markdown",
   "id": "9500eb88",
   "metadata": {},
   "source": [
    "#df_image_pred and df_dogs: contains some irrelevant columns"
   ]
  },
  {
   "cell_type": "markdown",
   "id": "bd0feb58",
   "metadata": {},
   "source": [
    "##### Define"
   ]
  },
  {
   "cell_type": "markdown",
   "id": "e00c0268",
   "metadata": {},
   "source": [
    "we will be using the dropping the columns not needed for analysis"
   ]
  },
  {
   "cell_type": "markdown",
   "id": "f1584ea2",
   "metadata": {},
   "source": [
    "##### Code"
   ]
  },
  {
   "cell_type": "code",
   "execution_count": 41,
   "id": "eb000ebc",
   "metadata": {},
   "outputs": [],
   "source": [
    "df_master_cleaned.drop([\"retweeted_status_timestamp\", \"retweeted\",\"in_reply_to_status_id\", \"in_reply_to_user_id\",\n",
    "                      \"retweeted_status_id\", \"retweeted_status_user_id\", \n",
    "                      ], inplace=True, axis = 1)"
   ]
  },
  {
   "cell_type": "markdown",
   "id": "deb54b48",
   "metadata": {},
   "source": [
    "##### Test"
   ]
  },
  {
   "cell_type": "code",
   "execution_count": 42,
   "id": "81b7ff5a",
   "metadata": {},
   "outputs": [
    {
     "data": {
      "text/plain": [
       "Index(['tweet_id', 'timestamp', 'source', 'text', 'expanded_urls',\n",
       "       'rating_numerator', 'rating_denominator', 'name', 'doggo', 'floofer',\n",
       "       'pupper', 'puppo', 'retweet_count', 'favorite_count',\n",
       "       'display_text_range', 'jpg_url', 'img_num', 'p1', 'p1_conf', 'p1_dog',\n",
       "       'p2', 'p2_conf', 'p2_dog', 'p3', 'p3_conf', 'p3_dog'],\n",
       "      dtype='object')"
      ]
     },
     "execution_count": 42,
     "metadata": {},
     "output_type": "execute_result"
    }
   ],
   "source": [
    "df_master_cleaned.columns"
   ]
  },
  {
   "cell_type": "markdown",
   "id": "57cd2939",
   "metadata": {},
   "source": [
    "##df_image_pred: there are empty rows in the jpg_url column"
   ]
  },
  {
   "cell_type": "markdown",
   "id": "455fa60a",
   "metadata": {},
   "source": [
    "##### Define"
   ]
  },
  {
   "cell_type": "markdown",
   "id": "505f3235",
   "metadata": {},
   "source": [
    "the jpg_urls with NAN are the ones without an image"
   ]
  },
  {
   "cell_type": "markdown",
   "id": "ea0056fe",
   "metadata": {},
   "source": [
    "##### Code"
   ]
  },
  {
   "cell_type": "code",
   "execution_count": 43,
   "id": "a7193f0f",
   "metadata": {},
   "outputs": [
    {
     "data": {
      "text/plain": [
       "126"
      ]
     },
     "execution_count": 43,
     "metadata": {},
     "output_type": "execute_result"
    }
   ],
   "source": [
    "df_master_cleaned.jpg_url.isnull().sum()"
   ]
  },
  {
   "cell_type": "code",
   "execution_count": 44,
   "id": "d892b480",
   "metadata": {},
   "outputs": [],
   "source": [
    "df_master_cleaned.dropna(subset = [\"jpg_url\"], inplace = True)"
   ]
  },
  {
   "cell_type": "markdown",
   "id": "e9cbbd6a",
   "metadata": {},
   "source": [
    "##### Test"
   ]
  },
  {
   "cell_type": "code",
   "execution_count": 45,
   "id": "fc5a9ce7",
   "metadata": {},
   "outputs": [
    {
     "data": {
      "text/plain": [
       "0"
      ]
     },
     "execution_count": 45,
     "metadata": {},
     "output_type": "execute_result"
    }
   ],
   "source": [
    "df_master_cleaned.jpg_url.isnull().sum()"
   ]
  },
  {
   "cell_type": "markdown",
   "id": "05305009",
   "metadata": {},
   "source": [
    "##Clean the datatypes of the columns"
   ]
  },
  {
   "cell_type": "markdown",
   "id": "32e6ea8f",
   "metadata": {},
   "source": [
    "##### Define"
   ]
  },
  {
   "cell_type": "markdown",
   "id": "7bc217c8",
   "metadata": {},
   "source": [
    "convert the integer datatype to string\n",
    "\n",
    "convert the timestamp to datetime"
   ]
  },
  {
   "cell_type": "markdown",
   "id": "476f76ec",
   "metadata": {},
   "source": [
    "##### Code"
   ]
  },
  {
   "cell_type": "code",
   "execution_count": 46,
   "id": "08b5eb4a",
   "metadata": {},
   "outputs": [],
   "source": [
    "df_master_cleaned[\"tweet_id\"] = df_master_cleaned[\"tweet_id\"].astype(\"str\")"
   ]
  },
  {
   "cell_type": "code",
   "execution_count": 47,
   "id": "90e526c0",
   "metadata": {},
   "outputs": [],
   "source": [
    "df_master_cleaned[\"timestamp\"] = pd.to_datetime(df_master_cleaned.timestamp)"
   ]
  },
  {
   "cell_type": "markdown",
   "id": "c10f3cfd",
   "metadata": {},
   "source": [
    "##### Test"
   ]
  },
  {
   "cell_type": "code",
   "execution_count": 48,
   "id": "8d0bd797",
   "metadata": {},
   "outputs": [
    {
     "name": "stdout",
     "output_type": "stream",
     "text": [
      "<class 'pandas.core.frame.DataFrame'>\n",
      "Int64Index: 1971 entries, 0 to 2355\n",
      "Data columns (total 26 columns):\n",
      " #   Column              Non-Null Count  Dtype              \n",
      "---  ------              --------------  -----              \n",
      " 0   tweet_id            1971 non-null   object             \n",
      " 1   timestamp           1971 non-null   datetime64[ns, UTC]\n",
      " 2   source              1971 non-null   object             \n",
      " 3   text                1971 non-null   object             \n",
      " 4   expanded_urls       1971 non-null   object             \n",
      " 5   rating_numerator    1971 non-null   int64              \n",
      " 6   rating_denominator  1971 non-null   int64              \n",
      " 7   name                1971 non-null   object             \n",
      " 8   doggo               1971 non-null   object             \n",
      " 9   floofer             1971 non-null   object             \n",
      " 10  pupper              1971 non-null   object             \n",
      " 11  puppo               1971 non-null   object             \n",
      " 12  retweet_count       1971 non-null   float64            \n",
      " 13  favorite_count      1971 non-null   float64            \n",
      " 14  display_text_range  1971 non-null   object             \n",
      " 15  jpg_url             1971 non-null   object             \n",
      " 16  img_num             1971 non-null   float64            \n",
      " 17  p1                  1971 non-null   object             \n",
      " 18  p1_conf             1971 non-null   float64            \n",
      " 19  p1_dog              1971 non-null   object             \n",
      " 20  p2                  1971 non-null   object             \n",
      " 21  p2_conf             1971 non-null   float64            \n",
      " 22  p2_dog              1971 non-null   object             \n",
      " 23  p3                  1971 non-null   object             \n",
      " 24  p3_conf             1971 non-null   float64            \n",
      " 25  p3_dog              1971 non-null   object             \n",
      "dtypes: datetime64[ns, UTC](1), float64(6), int64(2), object(17)\n",
      "memory usage: 415.8+ KB\n"
     ]
    }
   ],
   "source": [
    "df_master_cleaned.info()"
   ]
  },
  {
   "cell_type": "markdown",
   "id": "3698f161",
   "metadata": {},
   "source": [
    "#df_api: display_text_range has 2 variables"
   ]
  },
  {
   "cell_type": "markdown",
   "id": "60c52543",
   "metadata": {},
   "source": [
    "##### Define"
   ]
  },
  {
   "cell_type": "markdown",
   "id": "92c03f39",
   "metadata": {},
   "source": [
    "split the text_range into two using a list function"
   ]
  },
  {
   "cell_type": "markdown",
   "id": "937f8bd2",
   "metadata": {},
   "source": [
    "##### Code"
   ]
  },
  {
   "cell_type": "code",
   "execution_count": 49,
   "id": "0d821ee2",
   "metadata": {},
   "outputs": [],
   "source": [
    "#accessing the lower text range\n",
    "\n",
    "df_master_cleaned[\"lower_range\"] = df_master_cleaned[\"display_text_range\"].apply(lambda x: x[0])"
   ]
  },
  {
   "cell_type": "code",
   "execution_count": 50,
   "id": "448f73f2",
   "metadata": {},
   "outputs": [],
   "source": [
    "#accessing the upper text range\n",
    "\n",
    "df_master_cleaned[\"upper_range\"] = df_master_cleaned[\"display_text_range\"].apply(lambda x: x[1])"
   ]
  },
  {
   "cell_type": "code",
   "execution_count": 51,
   "id": "f2f42770",
   "metadata": {},
   "outputs": [],
   "source": [
    "#dropping the joint column\n",
    "\n",
    "df_master_cleaned.drop(\"display_text_range\", axis = 1, inplace = True)"
   ]
  },
  {
   "cell_type": "markdown",
   "id": "23184819",
   "metadata": {},
   "source": [
    "##### Test"
   ]
  },
  {
   "cell_type": "code",
   "execution_count": 52,
   "id": "1b071f17",
   "metadata": {},
   "outputs": [
    {
     "data": {
      "text/html": [
       "<div>\n",
       "<style scoped>\n",
       "    .dataframe tbody tr th:only-of-type {\n",
       "        vertical-align: middle;\n",
       "    }\n",
       "\n",
       "    .dataframe tbody tr th {\n",
       "        vertical-align: top;\n",
       "    }\n",
       "\n",
       "    .dataframe thead th {\n",
       "        text-align: right;\n",
       "    }\n",
       "</style>\n",
       "<table border=\"1\" class=\"dataframe\">\n",
       "  <thead>\n",
       "    <tr style=\"text-align: right;\">\n",
       "      <th></th>\n",
       "      <th>lower_range</th>\n",
       "      <th>upper_range</th>\n",
       "    </tr>\n",
       "  </thead>\n",
       "  <tbody>\n",
       "    <tr>\n",
       "      <th>0</th>\n",
       "      <td>0</td>\n",
       "      <td>85</td>\n",
       "    </tr>\n",
       "    <tr>\n",
       "      <th>1</th>\n",
       "      <td>0</td>\n",
       "      <td>138</td>\n",
       "    </tr>\n",
       "    <tr>\n",
       "      <th>2</th>\n",
       "      <td>0</td>\n",
       "      <td>121</td>\n",
       "    </tr>\n",
       "    <tr>\n",
       "      <th>3</th>\n",
       "      <td>0</td>\n",
       "      <td>79</td>\n",
       "    </tr>\n",
       "    <tr>\n",
       "      <th>4</th>\n",
       "      <td>0</td>\n",
       "      <td>138</td>\n",
       "    </tr>\n",
       "  </tbody>\n",
       "</table>\n",
       "</div>"
      ],
      "text/plain": [
       "   lower_range  upper_range\n",
       "0            0           85\n",
       "1            0          138\n",
       "2            0          121\n",
       "3            0           79\n",
       "4            0          138"
      ]
     },
     "execution_count": 52,
     "metadata": {},
     "output_type": "execute_result"
    }
   ],
   "source": [
    "df_master_cleaned[[\"lower_range\", \"upper_range\"]].head()"
   ]
  },
  {
   "cell_type": "markdown",
   "id": "2685105c",
   "metadata": {},
   "source": [
    "df_dogs:Remove the wrong names of name column"
   ]
  },
  {
   "cell_type": "markdown",
   "id": "15089eba",
   "metadata": {},
   "source": [
    "##### Define"
   ]
  },
  {
   "cell_type": "markdown",
   "id": "7f23f267",
   "metadata": {},
   "source": [
    "replace the wrong names with nan values"
   ]
  },
  {
   "cell_type": "markdown",
   "id": "d8ecd3f1",
   "metadata": {},
   "source": [
    "##### Code"
   ]
  },
  {
   "cell_type": "code",
   "execution_count": 53,
   "id": "45dfe219",
   "metadata": {},
   "outputs": [],
   "source": [
    "for name in [\"None\", \"a\", \"by\", \"the\"]:\n",
    "    df_master_cleaned[\"name\"].replace(name, np.nan, inplace = True)"
   ]
  },
  {
   "cell_type": "markdown",
   "id": "7aa70e57",
   "metadata": {},
   "source": [
    "##### Test"
   ]
  },
  {
   "cell_type": "code",
   "execution_count": 54,
   "id": "0f9a1608",
   "metadata": {},
   "outputs": [
    {
     "data": {
      "text/plain": [
       "Charlie       11\n",
       "Oliver        10\n",
       "Cooper        10\n",
       "Lucy          10\n",
       "Tucker         9\n",
       "              ..\n",
       "Shelby         1\n",
       "Sephie         1\n",
       "Bonaparte      1\n",
       "Wishes         1\n",
       "Christoper     1\n",
       "Name: name, Length: 931, dtype: int64"
      ]
     },
     "execution_count": 54,
     "metadata": {},
     "output_type": "execute_result"
    }
   ],
   "source": [
    "df_master_cleaned['name'].value_counts()"
   ]
  },
  {
   "cell_type": "markdown",
   "id": "96d041dd",
   "metadata": {},
   "source": [
    "##there are underscores instead of whitespaces "
   ]
  },
  {
   "cell_type": "markdown",
   "id": "c5b46ea9",
   "metadata": {},
   "source": [
    "##### Define"
   ]
  },
  {
   "cell_type": "markdown",
   "id": "0125e2a7",
   "metadata": {},
   "source": [
    "replace the underscores with whitespaces\n"
   ]
  },
  {
   "cell_type": "markdown",
   "id": "3ff27ef2",
   "metadata": {},
   "source": [
    "##### Code"
   ]
  },
  {
   "cell_type": "code",
   "execution_count": 55,
   "id": "b555977f",
   "metadata": {},
   "outputs": [],
   "source": [
    "df_master_cleaned.p1 = df_master_cleaned.p1.str.replace(\"_\", \" \")\n",
    "df_master_cleaned.p2 = df_master_cleaned.p2.str.replace(\"_\", \" \")\n",
    "df_master_cleaned.p3 = df_master_cleaned.p3.str.replace(\"_\", \" \")"
   ]
  },
  {
   "cell_type": "markdown",
   "id": "703f849b",
   "metadata": {},
   "source": [
    "##### Test"
   ]
  },
  {
   "cell_type": "code",
   "execution_count": 56,
   "id": "6c452948",
   "metadata": {},
   "outputs": [
    {
     "data": {
      "text/html": [
       "<div>\n",
       "<style scoped>\n",
       "    .dataframe tbody tr th:only-of-type {\n",
       "        vertical-align: middle;\n",
       "    }\n",
       "\n",
       "    .dataframe tbody tr th {\n",
       "        vertical-align: top;\n",
       "    }\n",
       "\n",
       "    .dataframe thead th {\n",
       "        text-align: right;\n",
       "    }\n",
       "</style>\n",
       "<table border=\"1\" class=\"dataframe\">\n",
       "  <thead>\n",
       "    <tr style=\"text-align: right;\">\n",
       "      <th></th>\n",
       "      <th>p1</th>\n",
       "      <th>p2</th>\n",
       "      <th>p3</th>\n",
       "    </tr>\n",
       "  </thead>\n",
       "  <tbody>\n",
       "    <tr>\n",
       "      <th>0</th>\n",
       "      <td>orange</td>\n",
       "      <td>bagel</td>\n",
       "      <td>banana</td>\n",
       "    </tr>\n",
       "    <tr>\n",
       "      <th>1</th>\n",
       "      <td>Chihuahua</td>\n",
       "      <td>Pekinese</td>\n",
       "      <td>papillon</td>\n",
       "    </tr>\n",
       "    <tr>\n",
       "      <th>2</th>\n",
       "      <td>Chihuahua</td>\n",
       "      <td>malamute</td>\n",
       "      <td>kelpie</td>\n",
       "    </tr>\n",
       "    <tr>\n",
       "      <th>3</th>\n",
       "      <td>paper towel</td>\n",
       "      <td>Labrador retriever</td>\n",
       "      <td>spatula</td>\n",
       "    </tr>\n",
       "    <tr>\n",
       "      <th>4</th>\n",
       "      <td>basset</td>\n",
       "      <td>English springer</td>\n",
       "      <td>German short-haired pointer</td>\n",
       "    </tr>\n",
       "  </tbody>\n",
       "</table>\n",
       "</div>"
      ],
      "text/plain": [
       "            p1                  p2                           p3\n",
       "0       orange               bagel                       banana\n",
       "1    Chihuahua            Pekinese                     papillon\n",
       "2    Chihuahua            malamute                       kelpie\n",
       "3  paper towel  Labrador retriever                      spatula\n",
       "4       basset    English springer  German short-haired pointer"
      ]
     },
     "execution_count": 56,
     "metadata": {},
     "output_type": "execute_result"
    }
   ],
   "source": [
    "df_master_cleaned[['p1','p2','p3']].head()"
   ]
  },
  {
   "cell_type": "markdown",
   "id": "594a7caa",
   "metadata": {},
   "source": [
    "##the columns `doggo`, `floofer`,`pupper` and `puppo` columns should be combined into 1"
   ]
  },
  {
   "cell_type": "markdown",
   "id": "45fb5681",
   "metadata": {},
   "source": [
    "##### Define"
   ]
  },
  {
   "cell_type": "markdown",
   "id": "bd71ffe5",
   "metadata": {},
   "source": [
    "replace the None values of doggo, floofer, pupper, puppo with nan values and concatenate the columns"
   ]
  },
  {
   "cell_type": "code",
   "execution_count": 57,
   "id": "34af4758",
   "metadata": {},
   "outputs": [],
   "source": [
    "##### Code"
   ]
  },
  {
   "cell_type": "code",
   "execution_count": 58,
   "id": "b970862f",
   "metadata": {},
   "outputs": [],
   "source": [
    "for x in [\"doggo\", \"floofer\", \"pupper\", \"puppo\"]:\n",
    "    df_master_cleaned[x].replace(\"None\", '', inplace = True)"
   ]
  },
  {
   "cell_type": "code",
   "execution_count": 59,
   "id": "6efbe096",
   "metadata": {},
   "outputs": [],
   "source": [
    "df_master_cleaned['dog_type'] = df_master_cleaned['doggo'].map(str) + df_master_cleaned[\n",
    "    'floofer'].map(str) + df_master_cleaned['pupper'].map(str) + df_master_cleaned['puppo'].map(str)"
   ]
  },
  {
   "cell_type": "code",
   "execution_count": 60,
   "id": "6ea9d4c2",
   "metadata": {},
   "outputs": [],
   "source": [
    "#replacing the empty rows with np.nan\n",
    "df_master_cleaned[\"dog_type\"].replace(\"\", np.nan, inplace = True)"
   ]
  },
  {
   "cell_type": "markdown",
   "id": "79f60261",
   "metadata": {},
   "source": [
    "##### Test"
   ]
  },
  {
   "cell_type": "code",
   "execution_count": 61,
   "id": "962adc77",
   "metadata": {},
   "outputs": [
    {
     "data": {
      "text/plain": [
       "pupper          201\n",
       "doggo            63\n",
       "puppo            22\n",
       "doggopupper       8\n",
       "floofer           7\n",
       "doggopuppo        1\n",
       "doggofloofer      1\n",
       "Name: dog_type, dtype: int64"
      ]
     },
     "execution_count": 61,
     "metadata": {},
     "output_type": "execute_result"
    }
   ],
   "source": [
    "df_master_cleaned['dog_type'].value_counts()"
   ]
  },
  {
   "cell_type": "markdown",
   "id": "2d12fa0c",
   "metadata": {},
   "source": [
    "##### Define"
   ]
  },
  {
   "cell_type": "markdown",
   "id": "cd2f1a2b",
   "metadata": {},
   "source": [
    "extract the most likely prediction \n",
    "\n",
    "concatenate the p1 , p2 and p3 columns into 1 and drop the individual columns"
   ]
  },
  {
   "cell_type": "markdown",
   "id": "f637cdaa",
   "metadata": {},
   "source": [
    "##### Code"
   ]
  },
  {
   "cell_type": "code",
   "execution_count": 62,
   "id": "b49580b7",
   "metadata": {},
   "outputs": [],
   "source": [
    "#creating a function to get the most likely dog prediction\n",
    "\n",
    "def get_likely(p):\n",
    "    if p[0] == True:\n",
    "        return p[1]\n",
    "    elif p[2] == True:\n",
    "        return p[3]\n",
    "    else:\n",
    "        return p[4]"
   ]
  },
  {
   "cell_type": "code",
   "execution_count": 63,
   "id": "5fc4bdfe",
   "metadata": {},
   "outputs": [],
   "source": [
    "#creating the dog breed column by applying the get_likely function\n",
    "\n",
    "df_master_cleaned[\"dog_breed\"] = df_master_cleaned[[\"p1_dog\", \"p1\", \"p2_dog\", \"p2\", \"p3\"]].apply(get_likely, axis = 1)"
   ]
  },
  {
   "cell_type": "code",
   "execution_count": 64,
   "id": "4a28f3ed",
   "metadata": {},
   "outputs": [],
   "source": [
    "#dropping the redundant columns\n",
    "\n",
    "df_master_cleaned.drop([\"p1\" ,\"p1_dog\", \"p2\", \"p2_dog\", \"p3\", \"p3_dog\"], inplace = True, axis = 1)"
   ]
  },
  {
   "cell_type": "markdown",
   "id": "3ad06019",
   "metadata": {},
   "source": [
    "##### Test"
   ]
  },
  {
   "cell_type": "code",
   "execution_count": 65,
   "id": "69970d50",
   "metadata": {},
   "outputs": [
    {
     "data": {
      "text/plain": [
       "golden retriever      156\n",
       "Labrador retriever    106\n",
       "Pembroke               94\n",
       "Chihuahua              90\n",
       "pug                    62\n",
       "                     ... \n",
       "cab                     1\n",
       "padlock                 1\n",
       "cup                     1\n",
       "neck brace              1\n",
       "terrapin                1\n",
       "Name: dog_breed, Length: 338, dtype: int64"
      ]
     },
     "execution_count": 65,
     "metadata": {},
     "output_type": "execute_result"
    }
   ],
   "source": [
    "df_master_cleaned.dog_breed.value_counts()"
   ]
  },
  {
   "cell_type": "code",
   "execution_count": 66,
   "id": "19b4fb4b",
   "metadata": {},
   "outputs": [],
   "source": [
    "#save the data to a csv file\n",
    "df_master_cleaned.to_csv('twitter_archive_master.csv', index = False)"
   ]
  },
  {
   "cell_type": "markdown",
   "id": "01b6a86c",
   "metadata": {},
   "source": [
    "## Data Analysis"
   ]
  },
  {
   "cell_type": "markdown",
   "id": "7399bf24",
   "metadata": {},
   "source": [
    "**Questions to be posed:**\n",
    "\n",
    "<ol>\n",
    "    <li>what month of the year had the most had the most tweets?</li>\n",
    "    <li>what dog breed has the most activity?</li> \n",
    "    <li>is there a relationship between retweets and favorites?</li> \n",
    "</ol>\n",
    "    "
   ]
  },
  {
   "cell_type": "code",
   "execution_count": 67,
   "id": "27b9bdd2",
   "metadata": {},
   "outputs": [
    {
     "data": {
      "text/html": [
       "<div>\n",
       "<style scoped>\n",
       "    .dataframe tbody tr th:only-of-type {\n",
       "        vertical-align: middle;\n",
       "    }\n",
       "\n",
       "    .dataframe tbody tr th {\n",
       "        vertical-align: top;\n",
       "    }\n",
       "\n",
       "    .dataframe thead th {\n",
       "        text-align: right;\n",
       "    }\n",
       "</style>\n",
       "<table border=\"1\" class=\"dataframe\">\n",
       "  <thead>\n",
       "    <tr style=\"text-align: right;\">\n",
       "      <th></th>\n",
       "      <th>tweet_id</th>\n",
       "      <th>timestamp</th>\n",
       "      <th>source</th>\n",
       "      <th>text</th>\n",
       "      <th>expanded_urls</th>\n",
       "      <th>rating_numerator</th>\n",
       "      <th>rating_denominator</th>\n",
       "      <th>name</th>\n",
       "      <th>doggo</th>\n",
       "      <th>floofer</th>\n",
       "      <th>...</th>\n",
       "      <th>favorite_count</th>\n",
       "      <th>jpg_url</th>\n",
       "      <th>img_num</th>\n",
       "      <th>p1_conf</th>\n",
       "      <th>p2_conf</th>\n",
       "      <th>p3_conf</th>\n",
       "      <th>lower_range</th>\n",
       "      <th>upper_range</th>\n",
       "      <th>dog_type</th>\n",
       "      <th>dog_breed</th>\n",
       "    </tr>\n",
       "  </thead>\n",
       "  <tbody>\n",
       "    <tr>\n",
       "      <th>0</th>\n",
       "      <td>892420643555336193</td>\n",
       "      <td>2017-08-01 16:23:56+00:00</td>\n",
       "      <td>&lt;a href=\"http://twitter.com/download/iphone\" r...</td>\n",
       "      <td>This is Phineas. He's a mystical boy. Only eve...</td>\n",
       "      <td>https://twitter.com/dog_rates/status/892420643...</td>\n",
       "      <td>13</td>\n",
       "      <td>10</td>\n",
       "      <td>Phineas</td>\n",
       "      <td>NaN</td>\n",
       "      <td>NaN</td>\n",
       "      <td>...</td>\n",
       "      <td>39467.0</td>\n",
       "      <td>https://pbs.twimg.com/media/DGKD1-bXoAAIAUK.jpg</td>\n",
       "      <td>1.0</td>\n",
       "      <td>0.097049</td>\n",
       "      <td>0.085851</td>\n",
       "      <td>0.076110</td>\n",
       "      <td>0</td>\n",
       "      <td>85</td>\n",
       "      <td>NaN</td>\n",
       "      <td>banana</td>\n",
       "    </tr>\n",
       "    <tr>\n",
       "      <th>1</th>\n",
       "      <td>892177421306343426</td>\n",
       "      <td>2017-08-01 00:17:27+00:00</td>\n",
       "      <td>&lt;a href=\"http://twitter.com/download/iphone\" r...</td>\n",
       "      <td>This is Tilly. She's just checking pup on you....</td>\n",
       "      <td>https://twitter.com/dog_rates/status/892177421...</td>\n",
       "      <td>13</td>\n",
       "      <td>10</td>\n",
       "      <td>Tilly</td>\n",
       "      <td>NaN</td>\n",
       "      <td>NaN</td>\n",
       "      <td>...</td>\n",
       "      <td>33819.0</td>\n",
       "      <td>https://pbs.twimg.com/media/DGGmoV4XsAAUL6n.jpg</td>\n",
       "      <td>1.0</td>\n",
       "      <td>0.323581</td>\n",
       "      <td>0.090647</td>\n",
       "      <td>0.068957</td>\n",
       "      <td>0</td>\n",
       "      <td>138</td>\n",
       "      <td>NaN</td>\n",
       "      <td>Chihuahua</td>\n",
       "    </tr>\n",
       "    <tr>\n",
       "      <th>2</th>\n",
       "      <td>891815181378084864</td>\n",
       "      <td>2017-07-31 00:18:03+00:00</td>\n",
       "      <td>&lt;a href=\"http://twitter.com/download/iphone\" r...</td>\n",
       "      <td>This is Archie. He is a rare Norwegian Pouncin...</td>\n",
       "      <td>https://twitter.com/dog_rates/status/891815181...</td>\n",
       "      <td>12</td>\n",
       "      <td>10</td>\n",
       "      <td>Archie</td>\n",
       "      <td>NaN</td>\n",
       "      <td>NaN</td>\n",
       "      <td>...</td>\n",
       "      <td>25461.0</td>\n",
       "      <td>https://pbs.twimg.com/media/DGBdLU1WsAANxJ9.jpg</td>\n",
       "      <td>1.0</td>\n",
       "      <td>0.716012</td>\n",
       "      <td>0.078253</td>\n",
       "      <td>0.031379</td>\n",
       "      <td>0</td>\n",
       "      <td>121</td>\n",
       "      <td>NaN</td>\n",
       "      <td>Chihuahua</td>\n",
       "    </tr>\n",
       "    <tr>\n",
       "      <th>3</th>\n",
       "      <td>891689557279858688</td>\n",
       "      <td>2017-07-30 15:58:51+00:00</td>\n",
       "      <td>&lt;a href=\"http://twitter.com/download/iphone\" r...</td>\n",
       "      <td>This is Darla. She commenced a snooze mid meal...</td>\n",
       "      <td>https://twitter.com/dog_rates/status/891689557...</td>\n",
       "      <td>13</td>\n",
       "      <td>10</td>\n",
       "      <td>Darla</td>\n",
       "      <td>NaN</td>\n",
       "      <td>NaN</td>\n",
       "      <td>...</td>\n",
       "      <td>42908.0</td>\n",
       "      <td>https://pbs.twimg.com/media/DF_q7IAWsAEuuN8.jpg</td>\n",
       "      <td>1.0</td>\n",
       "      <td>0.170278</td>\n",
       "      <td>0.168086</td>\n",
       "      <td>0.040836</td>\n",
       "      <td>0</td>\n",
       "      <td>79</td>\n",
       "      <td>NaN</td>\n",
       "      <td>Labrador retriever</td>\n",
       "    </tr>\n",
       "    <tr>\n",
       "      <th>4</th>\n",
       "      <td>891327558926688256</td>\n",
       "      <td>2017-07-29 16:00:24+00:00</td>\n",
       "      <td>&lt;a href=\"http://twitter.com/download/iphone\" r...</td>\n",
       "      <td>This is Franklin. He would like you to stop ca...</td>\n",
       "      <td>https://twitter.com/dog_rates/status/891327558...</td>\n",
       "      <td>12</td>\n",
       "      <td>10</td>\n",
       "      <td>Franklin</td>\n",
       "      <td>NaN</td>\n",
       "      <td>NaN</td>\n",
       "      <td>...</td>\n",
       "      <td>41048.0</td>\n",
       "      <td>https://pbs.twimg.com/media/DF6hr6BUMAAzZgT.jpg</td>\n",
       "      <td>2.0</td>\n",
       "      <td>0.555712</td>\n",
       "      <td>0.225770</td>\n",
       "      <td>0.175219</td>\n",
       "      <td>0</td>\n",
       "      <td>138</td>\n",
       "      <td>NaN</td>\n",
       "      <td>basset</td>\n",
       "    </tr>\n",
       "  </tbody>\n",
       "</table>\n",
       "<p>5 rows × 23 columns</p>\n",
       "</div>"
      ],
      "text/plain": [
       "             tweet_id                  timestamp  \\\n",
       "0  892420643555336193  2017-08-01 16:23:56+00:00   \n",
       "1  892177421306343426  2017-08-01 00:17:27+00:00   \n",
       "2  891815181378084864  2017-07-31 00:18:03+00:00   \n",
       "3  891689557279858688  2017-07-30 15:58:51+00:00   \n",
       "4  891327558926688256  2017-07-29 16:00:24+00:00   \n",
       "\n",
       "                                              source  \\\n",
       "0  <a href=\"http://twitter.com/download/iphone\" r...   \n",
       "1  <a href=\"http://twitter.com/download/iphone\" r...   \n",
       "2  <a href=\"http://twitter.com/download/iphone\" r...   \n",
       "3  <a href=\"http://twitter.com/download/iphone\" r...   \n",
       "4  <a href=\"http://twitter.com/download/iphone\" r...   \n",
       "\n",
       "                                                text  \\\n",
       "0  This is Phineas. He's a mystical boy. Only eve...   \n",
       "1  This is Tilly. She's just checking pup on you....   \n",
       "2  This is Archie. He is a rare Norwegian Pouncin...   \n",
       "3  This is Darla. She commenced a snooze mid meal...   \n",
       "4  This is Franklin. He would like you to stop ca...   \n",
       "\n",
       "                                       expanded_urls  rating_numerator  \\\n",
       "0  https://twitter.com/dog_rates/status/892420643...                13   \n",
       "1  https://twitter.com/dog_rates/status/892177421...                13   \n",
       "2  https://twitter.com/dog_rates/status/891815181...                12   \n",
       "3  https://twitter.com/dog_rates/status/891689557...                13   \n",
       "4  https://twitter.com/dog_rates/status/891327558...                12   \n",
       "\n",
       "   rating_denominator      name doggo floofer  ... favorite_count  \\\n",
       "0                  10   Phineas   NaN     NaN  ...        39467.0   \n",
       "1                  10     Tilly   NaN     NaN  ...        33819.0   \n",
       "2                  10    Archie   NaN     NaN  ...        25461.0   \n",
       "3                  10     Darla   NaN     NaN  ...        42908.0   \n",
       "4                  10  Franklin   NaN     NaN  ...        41048.0   \n",
       "\n",
       "                                           jpg_url  img_num   p1_conf  \\\n",
       "0  https://pbs.twimg.com/media/DGKD1-bXoAAIAUK.jpg      1.0  0.097049   \n",
       "1  https://pbs.twimg.com/media/DGGmoV4XsAAUL6n.jpg      1.0  0.323581   \n",
       "2  https://pbs.twimg.com/media/DGBdLU1WsAANxJ9.jpg      1.0  0.716012   \n",
       "3  https://pbs.twimg.com/media/DF_q7IAWsAEuuN8.jpg      1.0  0.170278   \n",
       "4  https://pbs.twimg.com/media/DF6hr6BUMAAzZgT.jpg      2.0  0.555712   \n",
       "\n",
       "    p2_conf   p3_conf  lower_range  upper_range  dog_type           dog_breed  \n",
       "0  0.085851  0.076110            0           85       NaN              banana  \n",
       "1  0.090647  0.068957            0          138       NaN           Chihuahua  \n",
       "2  0.078253  0.031379            0          121       NaN           Chihuahua  \n",
       "3  0.168086  0.040836            0           79       NaN  Labrador retriever  \n",
       "4  0.225770  0.175219            0          138       NaN              basset  \n",
       "\n",
       "[5 rows x 23 columns]"
      ]
     },
     "execution_count": 67,
     "metadata": {},
     "output_type": "execute_result"
    }
   ],
   "source": [
    "#loading the dataset\n",
    "\n",
    "df = pd.read_csv(\"twitter_archive_master.csv\")\n",
    "df.head()"
   ]
  },
  {
   "cell_type": "markdown",
   "id": "b5b5b81e",
   "metadata": {},
   "source": [
    "### 1.what month of the year had the most had the most tweets?\n"
   ]
  },
  {
   "cell_type": "code",
   "execution_count": 68,
   "id": "b48d7b1c",
   "metadata": {},
   "outputs": [],
   "source": [
    "#creating a copy of the dataset\n",
    "df_period=df.copy()"
   ]
  },
  {
   "cell_type": "code",
   "execution_count": 69,
   "id": "02034c7c",
   "metadata": {},
   "outputs": [
    {
     "data": {
      "text/plain": [
       "tweet_id                int64\n",
       "timestamp              object\n",
       "source                 object\n",
       "text                   object\n",
       "expanded_urls          object\n",
       "rating_numerator        int64\n",
       "rating_denominator      int64\n",
       "name                   object\n",
       "doggo                  object\n",
       "floofer                object\n",
       "pupper                 object\n",
       "puppo                  object\n",
       "retweet_count         float64\n",
       "favorite_count        float64\n",
       "jpg_url                object\n",
       "img_num               float64\n",
       "p1_conf               float64\n",
       "p2_conf               float64\n",
       "p3_conf               float64\n",
       "lower_range             int64\n",
       "upper_range             int64\n",
       "dog_type               object\n",
       "dog_breed              object\n",
       "dtype: object"
      ]
     },
     "execution_count": 69,
     "metadata": {},
     "output_type": "execute_result"
    }
   ],
   "source": [
    "#checking the data type of the columns\n",
    "\n",
    "df.dtypes"
   ]
  },
  {
   "cell_type": "markdown",
   "id": "b994c317",
   "metadata": {},
   "source": [
    "the timestamp column is in an object form and should be converted to datetime data type"
   ]
  },
  {
   "cell_type": "code",
   "execution_count": 70,
   "id": "8c3b0aa4",
   "metadata": {},
   "outputs": [],
   "source": [
    "#converting the timestamp column to  datetime \n",
    "\n",
    "df_period['timestamp']=pd.to_datetime(df_period['timestamp'])"
   ]
  },
  {
   "cell_type": "code",
   "execution_count": 71,
   "id": "1c9e2edc",
   "metadata": {},
   "outputs": [
    {
     "name": "stderr",
     "output_type": "stream",
     "text": [
      "C:\\Users\\qoyyum\\anaconda3\\lib\\site-packages\\pandas\\core\\arrays\\datetimes.py:1143: UserWarning: Converting to PeriodArray/Index representation will drop timezone information.\n",
      "  warnings.warn(\n"
     ]
    }
   ],
   "source": [
    "#extracting the month of the year\n",
    "\n",
    "df_period['month_year']=df_period[\"timestamp\"].dt.to_period('M')"
   ]
  },
  {
   "cell_type": "code",
   "execution_count": 72,
   "id": "834cb296",
   "metadata": {},
   "outputs": [
    {
     "data": {
      "text/plain": [
       "0       2017-08\n",
       "1       2017-08\n",
       "2       2017-07\n",
       "3       2017-07\n",
       "4       2017-07\n",
       "         ...   \n",
       "1966    2015-11\n",
       "1967    2015-11\n",
       "1968    2015-11\n",
       "1969    2015-11\n",
       "1970    2015-11\n",
       "Name: month_year, Length: 1971, dtype: period[M]"
      ]
     },
     "execution_count": 72,
     "metadata": {},
     "output_type": "execute_result"
    }
   ],
   "source": [
    "df_period['month_year']"
   ]
  },
  {
   "cell_type": "code",
   "execution_count": 73,
   "id": "622309be",
   "metadata": {},
   "outputs": [],
   "source": [
    "#sorting the dataset by month of the year\n",
    "\n",
    "df_period_by_month = df_period.sort_values(\"month_year\")"
   ]
  },
  {
   "cell_type": "code",
   "execution_count": 74,
   "id": "3c7279bb",
   "metadata": {},
   "outputs": [
    {
     "data": {
      "image/png": "[encoded data removed]",
      "text/plain": [
       "<Figure size 1152x360 with 1 Axes>"
      ]
     },
     "metadata": {
      "needs_background": "light"
     },
     "output_type": "display_data"
    }
   ],
   "source": [
    "# making a counplot of the month of the year\n",
    "plt.figure(figsize=(16,5))\n",
    "sns.countplot(x='month_year', data=df_period_by_month)\n",
    "plt.xticks(rotation=90)\n",
    "plt.title('count of tweets for each month of the year', fontsize=15);"
   ]
  },
  {
   "cell_type": "markdown",
   "id": "bb4e9c02",
   "metadata": {},
   "source": [
    "december of 2015 generated the most tweets\n",
    "\n",
    "the number of tweets generated declined as the year went on"
   ]
  },
  {
   "cell_type": "markdown",
   "id": "77c58f40",
   "metadata": {},
   "source": [
    "### 2. what dog breed has the most activity?"
   ]
  },
  {
   "cell_type": "code",
   "execution_count": 75,
   "id": "52d0340a",
   "metadata": {},
   "outputs": [],
   "source": [
    "#creating a copy of the dataset\n",
    "\n",
    "df_breed=df.copy()"
   ]
  },
  {
   "cell_type": "markdown",
   "id": "1edf74a3",
   "metadata": {},
   "source": [
    "activity is determined by sum of retweets and favorites"
   ]
  },
  {
   "cell_type": "code",
   "execution_count": 76,
   "id": "e82b0687",
   "metadata": {},
   "outputs": [],
   "source": [
    "#grouping the dataset by dog_breed\n",
    "\n",
    "df_activity=df_breed[[\"retweet_count\", \"favorite_count\", \"dog_breed\"]].groupby(\"dog_breed\",as_index = False)"
   ]
  },
  {
   "cell_type": "code",
   "execution_count": 77,
   "id": "b22d7844",
   "metadata": {},
   "outputs": [],
   "source": [
    "#getting the sum\n",
    "df_activity=df_activity.sum()"
   ]
  },
  {
   "cell_type": "code",
   "execution_count": 78,
   "id": "ddabe730",
   "metadata": {},
   "outputs": [],
   "source": [
    "#getting the sum of retweets and favorites \n",
    "\n",
    "df_activity[\"sum\"] = df_activity[\"retweet_count\"] + df_activity[\"favorite_count\"]"
   ]
  },
  {
   "cell_type": "code",
   "execution_count": 79,
   "id": "b5dba2ab",
   "metadata": {},
   "outputs": [],
   "source": [
    "#sorting the dataset by sum\n",
    "\n",
    "df_activity_by_sum=df_activity.sort_values(\"sum\",ascending = False)"
   ]
  },
  {
   "cell_type": "code",
   "execution_count": 80,
   "id": "0d7ea623",
   "metadata": {},
   "outputs": [
    {
     "data": {
      "text/plain": [
       "Text(0, 0.5, 'activity')"
      ]
     },
     "execution_count": 80,
     "metadata": {},
     "output_type": "execute_result"
    },
    {
     "data": {
      "image/png": "[encoded data removed]",
      "text/plain": [
       "<Figure size 432x288 with 1 Axes>"
      ]
     },
     "metadata": {
      "needs_background": "light"
     },
     "output_type": "display_data"
    }
   ],
   "source": [
    "locations =df_activity_by_sum['dog_breed'].iloc[:10]\n",
    "heights = df_activity_by_sum['sum'].iloc[:10]\n",
    "\n",
    "plt.bar(locations, heights)\n",
    "plt.title('top activity by dog breed')\n",
    "plt.xticks(rotation=90)\n",
    "plt.xlabel('breed ')\n",
    "plt.ylabel('activity')"
   ]
  },
  {
   "cell_type": "markdown",
   "id": "6245dab0",
   "metadata": {},
   "source": [
    "the golden retriever is the dog with the most activity"
   ]
  },
  {
   "cell_type": "markdown",
   "id": "6820ad30",
   "metadata": {},
   "source": [
    "### 3. is there a relationship between retweets and favorites?"
   ]
  },
  {
   "cell_type": "code",
   "execution_count": 81,
   "id": "2cb12750",
   "metadata": {},
   "outputs": [],
   "source": [
    "#creating a copy of the dataset\n",
    "\n",
    "df_rel=df.copy()"
   ]
  },
  {
   "cell_type": "code",
   "execution_count": 82,
   "id": "3feca14e",
   "metadata": {},
   "outputs": [
    {
     "data": {
      "image/png": "[encoded data removed]",
      "text/plain": [
       "<Figure size 432x288 with 1 Axes>"
      ]
     },
     "metadata": {
      "needs_background": "light"
     },
     "output_type": "display_data"
    }
   ],
   "source": [
    "#creating a scatter plot of retweets vs favorites\n",
    "\n",
    "plt.scatter(x=df_rel[\"retweet_count\"], y=df_rel[\"favorite_count\"]);\n",
    "plt.title('retweets vs favorites')\n",
    "plt.xlabel('retweets')\n",
    "plt.ylabel('favorites')\n",
    "plt.show()"
   ]
  },
  {
   "cell_type": "code",
   "execution_count": 83,
   "id": "50514ad0",
   "metadata": {},
   "outputs": [
    {
     "data": {
      "text/plain": [
       "Text(0.5, 1.0, 'retweets vs favorites')"
      ]
     },
     "execution_count": 83,
     "metadata": {},
     "output_type": "execute_result"
    },
    {
     "data": {
      "image/png": "[encoded data removed]",
      "text/plain": [
       "<Figure size 432x288 with 1 Axes>"
      ]
     },
     "metadata": {
      "needs_background": "light"
     },
     "output_type": "display_data"
    }
   ],
   "source": [
    "sns.regplot(x='retweet_count',y='favorite_count',data=df_rel)\n",
    "plt.title('retweets vs favorites')"
   ]
  },
  {
   "cell_type": "code",
   "execution_count": 84,
   "id": "838e1901",
   "metadata": {},
   "outputs": [
    {
     "data": {
      "image/png": "[encoded data removed]",
      "text/plain": [
       "<Figure size 576x576 with 2 Axes>"
      ]
     },
     "metadata": {
      "needs_background": "light"
     },
     "output_type": "display_data"
    }
   ],
   "source": [
    "#creating a heatmap to view the correlation\n",
    "\n",
    "corr_matrix=df_rel[['retweet_count','favorite_count']].corr()\n",
    "plt.figure(figsize=(8,8))\n",
    "sns.heatmap(corr_matrix,annot=True)\n",
    "plt.show()"
   ]
  },
  {
   "cell_type": "markdown",
   "id": "1153a749",
   "metadata": {},
   "source": [
    "there is a very high positive correlation between both columns"
   ]
  },
  {
   "cell_type": "markdown",
   "id": "0f45e988",
   "metadata": {},
   "source": [
    "<a id='conclusions'></a>\n",
    "## Conclusions\n",
    "\n",
    "1. we can see that there is an overall downtrend in the amount of tweets made monthly\n",
    "\n",
    "2. the golden retriever is the breed with most actvivty\n",
    "\n",
    "3. the higher the retweets, the higher the favorite count\n"
   ]
  },
  {
   "cell_type": "code",
   "execution_count": null,
   "id": "4f410c09",
   "metadata": {},
   "outputs": [],
   "source": []
  }
 ],
 "metadata": {
  "kernelspec": {
   "display_name": "Python 3 (ipykernel)",
   "language": "python",
   "name": "python3"
  },
  "language_info": {
   "codemirror_mode": {
    "name": "ipython",
    "version": 3
   },
   "file_extension": ".py",
   "mimetype": "text/x-python",
   "name": "python",
   "nbconvert_exporter": "python",
   "pygments_lexer": "ipython3",
   "version": "3.9.7"
  }
 },
 "nbformat": 4,
 "nbformat_minor": 5
}
